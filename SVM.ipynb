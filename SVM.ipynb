{
 "cells": [
  {
   "cell_type": "code",
   "execution_count": 1,
   "id": "38c88d06",
   "metadata": {},
   "outputs": [],
   "source": [
    "import s3fs\n",
    "import boto3\n",
    "import time\n",
    "\n",
    "from PIL import Image\n",
    "import numpy as np\n",
    "import hashlib\n",
    "import io\n",
    "import json\n",
    "import gc\n",
    "\n",
    "import torch\n",
    "from torchvision.models import resnet50, ResNet50_Weights\n",
    "from torchvision import transforms, models\n",
    "from torchvision.models import vgg16, VGG16_Weights\n",
    "from torch.utils.data import DataLoader\n",
    "import matplotlib.pyplot as plt\n",
    "\n",
    "from sklearn.model_selection import train_test_split\n",
    "from sklearn.svm import SVC\n",
    "from sklearn.preprocessing import StandardScaler\n",
    "from sklearn.metrics import confusion_matrix, ConfusionMatrixDisplay,classification_report, accuracy_score"
   ]
  },
  {
   "cell_type": "code",
   "execution_count": 2,
   "id": "6df41a91",
   "metadata": {},
   "outputs": [],
   "source": [
    "def init_clients():\n",
    "    return boto3.client(\"s3\"), s3fs.S3FileSystem()\n",
    "\n",
    "boto3_s3, s3fs_ = init_clients()"
   ]
  },
  {
   "cell_type": "code",
   "execution_count": 3,
   "id": "59b06318",
   "metadata": {},
   "outputs": [
    {
     "name": "stdout",
     "output_type": "stream",
     "text": [
      "Using device: cuda\n",
      "\n"
     ]
    }
   ],
   "source": [
    "device = torch.device('cuda' if torch.cuda.is_available() else 'cpu')\n",
    "print('Using device:', device)\n",
    "print()"
   ]
  },
  {
   "cell_type": "code",
   "execution_count": 4,
   "id": "9d36b1b2",
   "metadata": {},
   "outputs": [],
   "source": [
    "def data_loading(path):\n",
    "    with open(path, 'r') as file:\n",
    "        test_data = json.load(file)\n",
    "    x = list(test_data.keys())\n",
    "    y = list(test_data.values())\n",
    "    train_x, test_x, train_y, test_y = train_test_split(x, y, test_size=0.3, random_state=42,stratify=y)\n",
    "    return train_x, test_x, train_y, test_y"
   ]
  },
  {
   "cell_type": "code",
   "execution_count": 5,
   "id": "91775658",
   "metadata": {},
   "outputs": [],
   "source": [
    "def data_loading_COMPCAR():\n",
    "    train_x, test_x, train_y, test_y = data_loading('TESTDATA.json')\n",
    "\n",
    "    with open('COMPCAR.json', 'r') as file:\n",
    "        test_data = json.load(file)\n",
    "    x = list(test_data.keys())\n",
    "    y = list(test_data.values())\n",
    "    train_x_2, test_x_2, train_y_2, test_y_2 = train_test_split(x, y, test_size=0.90, random_state=42,stratify=y)\n",
    "\n",
    "    train_x.extend(train_x_2)\n",
    "    train_y.extend(train_y_2)\n",
    "    \n",
    "    test_x.extend(test_x_2[:1500])\n",
    "    test_y.extend(test_y_2[:1500])\n",
    "    return train_x, test_x, train_y, test_y"
   ]
  },
  {
   "cell_type": "code",
   "execution_count": 6,
   "id": "3dd33bad",
   "metadata": {},
   "outputs": [],
   "source": [
    "def preprocess_image(image_bytes):\n",
    "    # Open the image as bytes\n",
    "    image = Image.open(io.BytesIO(image_bytes))\n",
    "\n",
    "    # Convert to grayscale\n",
    "    if image.mode != 'RGB':\n",
    "        image = image.convert('RGB')\n",
    "\n",
    "    # Convert image to numpy array\n",
    "    image_np = np.array(image)\n",
    "\n",
    "    # Convert the numpy array to PyTorch tensor\n",
    "    image_tensor = torch.tensor(image_np)\n",
    "\n",
    "    # Convert the tensor to 3D RGB (if it's not already)\n",
    "    if len(image_tensor.shape) == 2:\n",
    "        image_tensor = image_tensor.unsqueeze(0)  # Add batch dimension\n",
    "    image_tensor = image_tensor.permute(2, 0, 1)  # Convert HWC to CHW\n",
    "\n",
    "    # Normalize to [0, 1]\n",
    "    image_tensor = image_tensor.float() / 255.0\n",
    "\n",
    "    return image_tensor\n",
    "\n",
    "\n",
    "def process_duplicates_image_ids(model, image_paths: list, batch_size: int,\n",
    "                                 bucket: str, boto_s3: boto3.client(\"s3\"), \n",
    "                                 s3fs_: s3fs.S3FileSystem(), target_size=(256, 256)):\n",
    "    models = ['ResNet','VGG16', 'SVM', 'YOLO']\n",
    "    if model in models:\n",
    "        preprocess = transforms.Compose([transforms.Resize(target_size), transforms.ToTensor(),])\n",
    "\n",
    "    image_tensors = []\n",
    "    for i in range(0, len(image_paths), batch_size):\n",
    "        batch_image_paths = image_paths[i:i + batch_size]\n",
    "        batch_image_tensors = []\n",
    "        for ad_image in batch_image_paths:\n",
    "            if ad_image.lower().endswith(('.jpg', '.jpeg', '.png')):\n",
    "                image_path = \"/\".join(ad_image.split(\"/\")[1:])\n",
    "                s3_object = boto_s3.get_object(Bucket=bucket, Key=image_path)\n",
    "                image_bytes = s3_object['Body'].read()\n",
    "                image_tensor = preprocess_image(image_bytes)\n",
    "                batch_image_tensors.append(image_tensor)\n",
    "        # Resize or crop images to the target size before stacking\n",
    "        batch_image_tensors_resized = [transforms.functional.resize(image, target_size) for image in batch_image_tensors]\n",
    "        image_tensors.append(torch.stack(batch_image_tensors_resized))\n",
    "\n",
    "    # Concatenate processed batches\n",
    "    processed_image_tensors = torch.cat(image_tensors, dim=0)\n",
    "\n",
    "    # Display the shape and dtype of the tensor\n",
    "    print(\"Tensor Shape:\", processed_image_tensors.shape)\n",
    "    print(\"Tensor Dtype:\", processed_image_tensors.dtype)\n",
    "\n",
    "    return processed_image_tensors"
   ]
  },
  {
   "cell_type": "code",
   "execution_count": 7,
   "id": "734988a6",
   "metadata": {},
   "outputs": [],
   "source": [
    "def run_svm(im_train,train_y,im_test,test_y):\n",
    "    start_time = time.time()\n",
    "\n",
    "    im_train_svm = im_train\n",
    "    train_y_svm = train_y\n",
    "\n",
    "    im_test_svm = im_test\n",
    "    test_y_svm = test_y\n",
    "\n",
    "    # Flatten the tensors\n",
    "    train_x_flattened = im_train_svm.view(im_train_svm.size(0), -1).numpy()\n",
    "    test_x_flattened = im_test_svm.view(im_test_svm.size(0), -1).numpy()\n",
    "\n",
    "    # Feature scaling for better performance\n",
    "    scaler = StandardScaler()\n",
    "    train_x_scaled = scaler.fit_transform(train_x_flattened)\n",
    "    test_x_scaled = scaler.transform(test_x_flattened)\n",
    "\n",
    "    svm_classifier = SVC(kernel='rbf', random_state=42)\n",
    "    print('FITTING')\n",
    "    svm_classifier.fit(train_x_scaled, train_y_svm)\n",
    "    print('FITTING DONE')\n",
    "    end_time = time.time()\n",
    "    print(\"Time taken for training:\", end_time - start_time, \"seconds\")\n",
    "    start_time = time.time()\n",
    "    y_pred = svm_classifier.predict(test_x_scaled)\n",
    "    end_time = time.time()\n",
    "    print(\"Time taken for testing:\", end_time - start_time, \"seconds\")\n",
    "    return y_pred"
   ]
  },
  {
   "cell_type": "code",
   "execution_count": 8,
   "id": "7acfc1e0",
   "metadata": {
    "scrolled": false
   },
   "outputs": [],
   "source": [
    "def show_matrix(test_y_svm,y_pred,filename=None):\n",
    "    print(classification_report(test_y_svm, y_pred))\n",
    "    cm = confusion_matrix(test_y_svm, y_pred)\n",
    "    disp = ConfusionMatrixDisplay(confusion_matrix=cm,display_labels=['interior','exterior'])\n",
    "    disp.plot()\n",
    "    if filename:\n",
    "        plt.savefig(filename)\n",
    "    else:\n",
    "        plt.show()"
   ]
  },
  {
   "cell_type": "code",
   "execution_count": 9,
   "id": "125b379c",
   "metadata": {},
   "outputs": [],
   "source": [
    "def main_SVM():\n",
    "    train_x, test_x, train_y, test_y = data_loading_COMPCAR()\n",
    "    gc.collect()\n",
    "    im_train = process_duplicates_image_ids('SVM',image_paths=train_x,batch_size=100,bucket=\"s3-path\",\n",
    "            boto_s3=boto3_s3,\n",
    "            s3fs_=s3fs_)\n",
    "\n",
    "    im_test = process_duplicates_image_ids('SVM',image_paths=test_x,batch_size=100,bucket=\"s3-path\",\n",
    "            boto_s3=boto3_s3,\n",
    "            s3fs_=s3fs_)\n",
    "\n",
    "    pred = run_svm(im_train,train_y,im_test,test_y)\n",
    "    show_matrix(test_y,pred,filename='SVM_results.png')"
   ]
  },
  {
   "cell_type": "code",
   "execution_count": 15,
   "id": "0affa180",
   "metadata": {},
   "outputs": [
    {
     "name": "stderr",
     "output_type": "stream",
     "text": [
      "/home/ec2-user/anaconda3/envs/pytorch_p310/lib/python3.10/site-packages/torchvision/transforms/functional.py:1603: UserWarning: The default value of the antialias parameter of all the resizing transforms (Resize(), RandomResizedCrop(), etc.) will change from None to True in v0.17, in order to be consistent across the PIL and Tensor backends. To suppress this warning, directly pass antialias=True (recommended, future default), antialias=None (current default, which means False for Tensors and True for PIL), or antialias=False (only works on Tensors - PIL will still use antialiasing). This also applies if you are using the inference transforms from the models weights: update the call to weights.transforms(antialias=True).\n",
      "  warnings.warn(\n"
     ]
    },
    {
     "name": "stdout",
     "output_type": "stream",
     "text": [
      "Tensor Shape: torch.Size([5324, 3, 256, 256])\n",
      "Tensor Dtype: torch.float32\n",
      "Tensor Shape: torch.Size([2661, 3, 256, 256])\n",
      "Tensor Dtype: torch.float32\n",
      "FITTING\n",
      "FITTING DONE\n",
      "Time taken for training: 504.8697392940521 seconds\n",
      "Time taken for testing: 2599.405337333679 seconds\n",
      "              precision    recall  f1-score   support\n",
      "\n",
      "           0       0.86      0.90      0.88      1477\n",
      "           1       0.87      0.83      0.85      1184\n",
      "\n",
      "    accuracy                           0.87      2661\n",
      "   macro avg       0.87      0.86      0.86      2661\n",
      "weighted avg       0.87      0.87      0.87      2661\n",
      "\n"
     ]
    },
    {
     "data": {
      "image/png": "[encoded data removed]",
      "text/plain": [
       "<Figure size 640x480 with 2 Axes>"
      ]
     },
     "metadata": {},
     "output_type": "display_data"
    }
   ],
   "source": [
    "main_SVM()"
   ]
  },
  {
   "cell_type": "markdown",
   "id": "fe4b49e8",
   "metadata": {},
   "source": [
    "# SVM as classifier"
   ]
  },
  {
   "cell_type": "code",
   "execution_count": 10,
   "id": "4329591b",
   "metadata": {},
   "outputs": [],
   "source": [
    "def data_loading(path):\n",
    "    with open(path, 'r') as file:\n",
    "        test_data = json.load(file)\n",
    "    x = list(test_data.keys())\n",
    "    y = list(test_data.values())\n",
    "    train_x, test_x, train_y, test_y = train_test_split(x, y, test_size=0.3, random_state=42,stratify=y)\n",
    "    return train_x, test_x, train_y, test_y"
   ]
  },
  {
   "cell_type": "code",
   "execution_count": 11,
   "id": "5b9ba91f",
   "metadata": {},
   "outputs": [],
   "source": [
    "def fit_train_embeddings(im_train,train_y):\n",
    "    start_time = time.time()\n",
    "    weights = ResNet50_Weights.DEFAULT\n",
    "    model = resnet50(weights=weights).to(device)\n",
    "    model.eval()\n",
    "\n",
    "\n",
    "    data_loader = DataLoader(im_train, batch_size=32, shuffle=False)\n",
    "    embeddings = []\n",
    "\n",
    "    with torch.no_grad():\n",
    "        for batch in data_loader:\n",
    "            batch = batch.to(device)\n",
    "            embedding_batch = model(batch)\n",
    "            embeddings.append(embedding_batch)\n",
    "\n",
    "    train_embeddings = torch.cat(embeddings, dim=0).cpu().numpy()\n",
    "    \n",
    "    svm_classifier = SVC(kernel='rbf', random_state=42)\n",
    "    svm_classifier.fit(train_embeddings, train_y)\n",
    "    end_time = time.time()\n",
    "    print(\"Time taken for training:\", end_time - start_time, \"seconds\")\n",
    "    return svm_classifier"
   ]
  },
  {
   "cell_type": "code",
   "execution_count": 12,
   "id": "91ee282e",
   "metadata": {},
   "outputs": [],
   "source": [
    "def predict_test_embeddings(im_test,svm_classifier):\n",
    "    start_time = time.time()\n",
    "    weights = ResNet50_Weights.DEFAULT\n",
    "    model = resnet50(weights=weights).to(device)\n",
    "    model.eval()\n",
    "\n",
    "\n",
    "    data_loader = DataLoader(im_test, batch_size=32, shuffle=False)\n",
    "    embeddings = []\n",
    "\n",
    "    with torch.no_grad():\n",
    "        for batch in data_loader:\n",
    "            batch = batch.to(device)\n",
    "            embedding_batch = model(batch)\n",
    "            embeddings.append(embedding_batch)\n",
    "\n",
    "    embeddings_test = torch.cat(embeddings, dim=0).cpu().numpy()\n",
    "    y_pred = svm_classifier.predict(embeddings_test)\n",
    "    end_time = time.time()\n",
    "    print(\"Time taken for testing:\", end_time - start_time, \"seconds\")\n",
    "    return y_pred"
   ]
  },
  {
   "cell_type": "code",
   "execution_count": 13,
   "id": "03830a06",
   "metadata": {},
   "outputs": [],
   "source": [
    "def trained_SVM():\n",
    "    train_x, test_x, train_y, test_y = data_loading_COMPCAR()\n",
    "    gc.collect()\n",
    "    im_train = process_duplicates_image_ids('ResNet',image_paths=train_x,batch_size=100,bucket=\"s3-path\",\n",
    "            boto_s3=boto3_s3,\n",
    "            s3fs_=s3fs_)\n",
    "    im_test = process_duplicates_image_ids('ResNet',image_paths=test_x,batch_size=100,bucket=\"s3-path\",\n",
    "            boto_s3=boto3_s3,\n",
    "            s3fs_=s3fs_)\n",
    "\n",
    "    svm_classifier = fit_train_embeddings(im_train,train_y)\n",
    "    result = predict_test_embeddings(im_test,svm_classifier)\n",
    "    show_matrix(test_y,result,filename='trained_SVM_classifier_results.png')"
   ]
  },
  {
   "cell_type": "code",
   "execution_count": 17,
   "id": "352a6561",
   "metadata": {},
   "outputs": [
    {
     "name": "stderr",
     "output_type": "stream",
     "text": [
      "/home/ec2-user/anaconda3/envs/pytorch_p310/lib/python3.10/site-packages/torchvision/transforms/functional.py:1603: UserWarning: The default value of the antialias parameter of all the resizing transforms (Resize(), RandomResizedCrop(), etc.) will change from None to True in v0.17, in order to be consistent across the PIL and Tensor backends. To suppress this warning, directly pass antialias=True (recommended, future default), antialias=None (current default, which means False for Tensors and True for PIL), or antialias=False (only works on Tensors - PIL will still use antialiasing). This also applies if you are using the inference transforms from the models weights: update the call to weights.transforms(antialias=True).\n",
      "  warnings.warn(\n"
     ]
    },
    {
     "name": "stdout",
     "output_type": "stream",
     "text": [
      "Tensor Shape: torch.Size([5324, 3, 256, 256])\n",
      "Tensor Dtype: torch.float32\n",
      "Tensor Shape: torch.Size([2661, 3, 256, 256])\n",
      "Tensor Dtype: torch.float32\n"
     ]
    },
    {
     "name": "stderr",
     "output_type": "stream",
     "text": [
      "Downloading: \"https://download.pytorch.org/models/resnet50-11ad3fa6.pth\" to /home/ec2-user/.cache/torch/hub/checkpoints/resnet50-11ad3fa6.pth\n",
      "100%|██████████| 97.8M/97.8M [00:00<00:00, 228MB/s]\n"
     ]
    },
    {
     "name": "stdout",
     "output_type": "stream",
     "text": [
      "Time taken for training: 22.53481101989746 seconds\n",
      "Time taken for testing: 10.317439794540405 seconds\n",
      "              precision    recall  f1-score   support\n",
      "\n",
      "           0       0.99      0.99      0.99      1477\n",
      "           1       0.99      0.98      0.99      1184\n",
      "\n",
      "    accuracy                           0.99      2661\n",
      "   macro avg       0.99      0.99      0.99      2661\n",
      "weighted avg       0.99      0.99      0.99      2661\n",
      "\n"
     ]
    },
    {
     "data": {
      "image/png": "[encoded data removed]",
      "text/plain": [
       "<Figure size 640x480 with 2 Axes>"
      ]
     },
     "metadata": {},
     "output_type": "display_data"
    }
   ],
   "source": [
    "trained_SVM()"
   ]
  },
  {
   "cell_type": "code",
   "execution_count": 14,
   "id": "9e54862e",
   "metadata": {},
   "outputs": [
    {
     "data": {
      "text/plain": [
       "[139,\n",
       " 158,\n",
       " 213,\n",
       " 281,\n",
       " 301,\n",
       " 306,\n",
       " 355,\n",
       " 412,\n",
       " 474,\n",
       " 491,\n",
       " 561,\n",
       " 591,\n",
       " 620,\n",
       " 622,\n",
       " 641,\n",
       " 701,\n",
       " 712,\n",
       " 736,\n",
       " 878,\n",
       " 887,\n",
       " 957,\n",
       " 963,\n",
       " 978,\n",
       " 1007,\n",
       " 1097,\n",
       " 1101,\n",
       " 1143]"
      ]
     },
     "execution_count": 14,
     "metadata": {},
     "output_type": "execute_result"
    }
   ],
   "source": [
    "train_x, test_x, train_y, test_y = data_loading_COMPCAR()\n",
    "\n",
    "misclassified_indices = []\n",
    "for i in range(len(test_y)):\n",
    "    if test_y[i] != result[i]:\n",
    "        misclassified_indices.append(i)\n",
    "        \n",
    "misclassified_indices\n"
   ]
  },
  {
   "cell_type": "code",
   "execution_count": 15,
   "id": "f7439713",
   "metadata": {},
   "outputs": [],
   "source": [
    "resn = [13,\n",
    " 14,\n",
    " 213,\n",
    " 281,\n",
    " 297,\n",
    " 301,\n",
    " 306,\n",
    " 342,\n",
    " 382,\n",
    " 440,\n",
    " 446,\n",
    " 473,\n",
    " 474,\n",
    " 491,\n",
    " 534,\n",
    " 547,\n",
    " 561,\n",
    " 591,\n",
    " 620,\n",
    " 622,\n",
    " 641,\n",
    " 678,\n",
    " 701,\n",
    " 712,\n",
    " 736,\n",
    " 744,\n",
    " 747,\n",
    " 759,\n",
    " 806,\n",
    " 878,\n",
    " 891,\n",
    " 963,\n",
    " 981,\n",
    " 1004,\n",
    " 1097,\n",
    " 1113,\n",
    " 1143]"
   ]
  },
  {
   "cell_type": "code",
   "execution_count": 16,
   "id": "2f8fbeba",
   "metadata": {},
   "outputs": [
    {
     "data": {
      "text/plain": [
       "{213,\n",
       " 281,\n",
       " 301,\n",
       " 306,\n",
       " 474,\n",
       " 491,\n",
       " 561,\n",
       " 591,\n",
       " 620,\n",
       " 622,\n",
       " 641,\n",
       " 701,\n",
       " 712,\n",
       " 736,\n",
       " 878,\n",
       " 963,\n",
       " 1097,\n",
       " 1143}"
      ]
     },
     "execution_count": 16,
     "metadata": {},
     "output_type": "execute_result"
    }
   ],
   "source": [
    "overlap = set(misclassified_indices) & set(resn)\n",
    "overlap"
   ]
  },
  {
   "cell_type": "code",
   "execution_count": 18,
   "id": "e4a6cba7",
   "metadata": {},
   "outputs": [
    {
     "data": {
      "text/plain": [
       "0.9767441860465116"
      ]
     },
     "execution_count": 18,
     "metadata": {},
     "output_type": "execute_result"
    }
   ],
   "source": [
    "accuracy_score(test_y,result)"
   ]
  },
  {
   "cell_type": "code",
   "execution_count": 17,
   "id": "4b11a8c0",
   "metadata": {},
   "outputs": [
    {
     "data": {
      "text/plain": [
       "Linear(in_features=2048, out_features=1000, bias=True)"
      ]
     },
     "execution_count": 17,
     "metadata": {},
     "output_type": "execute_result"
    }
   ],
   "source": [
    "weights = ResNet50_Weights.DEFAULT\n",
    "model = resnet50(weights=weights)\n",
    "model.fc"
   ]
  },
  {
   "cell_type": "code",
   "execution_count": null,
   "id": "48899ee7",
   "metadata": {},
   "outputs": [],
   "source": []
  }
 ],
 "metadata": {
  "kernelspec": {
   "display_name": "conda_pytorch_p310",
   "language": "python",
   "name": "conda_pytorch_p310"
  },
  "language_info": {
   "codemirror_mode": {
    "name": "ipython",
    "version": 3
   },
   "file_extension": ".py",
   "mimetype": "text/x-python",
   "name": "python",
   "nbconvert_exporter": "python",
   "pygments_lexer": "ipython3",
   "version": "3.10.14"
  }
 },
 "nbformat": 4,
 "nbformat_minor": 5
}
