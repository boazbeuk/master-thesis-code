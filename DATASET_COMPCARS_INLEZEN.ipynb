{
 "cells": [
  {
   "cell_type": "code",
   "execution_count": 1,
   "id": "d02e895f",
   "metadata": {},
   "outputs": [],
   "source": [
    "import os\n",
    "import pandas as pd\n",
    "from tqdm import tqdm\n",
    "\n",
    "data = []\n",
    "for path, folder, files in os.walk('datasets/data/image'):\n",
    "    if files:\n",
    "        for f in files:\n",
    "            data.append(((path + '/' + f), f[:-4]))"
   ]
  },
  {
   "cell_type": "code",
   "execution_count": 2,
   "id": "ec095457",
   "metadata": {},
   "outputs": [],
   "source": [
    "data = sorted(data, key=lambda x: x[1])"
   ]
  },
  {
   "cell_type": "code",
   "execution_count": 3,
   "id": "2da98188",
   "metadata": {},
   "outputs": [],
   "source": [
    "img_path, img_ids = list(zip(*data))"
   ]
  },
  {
   "cell_type": "code",
   "execution_count": 4,
   "id": "b4957677",
   "metadata": {},
   "outputs": [],
   "source": [
    "df_img = pd.DataFrame()\n",
    "df_img['id'] = img_ids\n",
    "df_img['img_path'] = img_path"
   ]
  },
  {
   "cell_type": "code",
   "execution_count": 5,
   "id": "ea7492e1",
   "metadata": {},
   "outputs": [],
   "source": [
    "labels = []\n",
    "for path, folder, files in os.walk('datasets/data/label'):\n",
    "    if files:\n",
    "        for f in files:\n",
    "            labels.append(((path + '/' + f), f[:-4]))"
   ]
  },
  {
   "cell_type": "code",
   "execution_count": 6,
   "id": "1fdbfa1d",
   "metadata": {},
   "outputs": [],
   "source": [
    "labels = sorted(labels, key=lambda x: x[1])\n",
    "lbs_path, lbs_id = list(zip(*labels))\n",
    "\n",
    "df_lbs = pd.DataFrame()\n",
    "df_lbs['id'] = lbs_id\n",
    "df_lbs['lbs_path'] = lbs_path"
   ]
  },
  {
   "cell_type": "code",
   "execution_count": 7,
   "id": "d0ad10d4",
   "metadata": {},
   "outputs": [
    {
     "name": "stderr",
     "output_type": "stream",
     "text": [
      "100%|██████████| 136894/136894 [02:38<00:00, 863.48it/s] \n"
     ]
    }
   ],
   "source": [
    "df = pd.merge(df_img, df_lbs, how='inner', on = 'id')\n",
    "labels = df['lbs_path']\n",
    "\n",
    "bbs = []\n",
    "for path in tqdm(labels):\n",
    "    with open(path) as f:\n",
    "        content = f.readline().strip()  # Read the first line and remove leading/trailing whitespace\n",
    "        first_value = content.split()[0]  # Split the line by whitespace and get the first element\n",
    "    bbs.append(first_value)\n",
    "    \n",
    "df['label'] = bbs\n",
    "\n"
   ]
  },
  {
   "cell_type": "code",
   "execution_count": 8,
   "id": "a845d6d2",
   "metadata": {},
   "outputs": [],
   "source": [
    "del df['lbs_path']\n",
    "del df['id']"
   ]
  },
  {
   "cell_type": "code",
   "execution_count": 9,
   "id": "31e75498",
   "metadata": {},
   "outputs": [
    {
     "data": {
      "text/html": [
       "<div>\n",
       "<style scoped>\n",
       "    .dataframe tbody tr th:only-of-type {\n",
       "        vertical-align: middle;\n",
       "    }\n",
       "\n",
       "    .dataframe tbody tr th {\n",
       "        vertical-align: top;\n",
       "    }\n",
       "\n",
       "    .dataframe thead th {\n",
       "        text-align: right;\n",
       "    }\n",
       "</style>\n",
       "<table border=\"1\" class=\"dataframe\">\n",
       "  <thead>\n",
       "    <tr style=\"text-align: right;\">\n",
       "      <th></th>\n",
       "      <th>img_path</th>\n",
       "      <th>label</th>\n",
       "    </tr>\n",
       "  </thead>\n",
       "  <tbody>\n",
       "    <tr>\n",
       "      <th>0</th>\n",
       "      <td>datasets/data/image/77/160/2011/0002dbe4d037f0...</td>\n",
       "      <td>2</td>\n",
       "    </tr>\n",
       "    <tr>\n",
       "      <th>1</th>\n",
       "      <td>datasets/data/image/32/544/2012/0003114e4114a9...</td>\n",
       "      <td>2</td>\n",
       "    </tr>\n",
       "    <tr>\n",
       "      <th>2</th>\n",
       "      <td>datasets/data/image/84/1970/2012/0003748673d82...</td>\n",
       "      <td>4</td>\n",
       "    </tr>\n",
       "    <tr>\n",
       "      <th>3</th>\n",
       "      <td>datasets/data/image/149/1799/2011/0003a38d99bf...</td>\n",
       "      <td>1</td>\n",
       "    </tr>\n",
       "    <tr>\n",
       "      <th>4</th>\n",
       "      <td>datasets/data/image/157/1917/2011/0003d093bb65...</td>\n",
       "      <td>4</td>\n",
       "    </tr>\n",
       "    <tr>\n",
       "      <th>...</th>\n",
       "      <td>...</td>\n",
       "      <td>...</td>\n",
       "    </tr>\n",
       "    <tr>\n",
       "      <th>136889</th>\n",
       "      <td>datasets/data/image/77/164/2011/fffd4c0e312e69...</td>\n",
       "      <td>4</td>\n",
       "    </tr>\n",
       "    <tr>\n",
       "      <th>136890</th>\n",
       "      <td>datasets/data/image/100/248/2013/fffdf53f9e53f...</td>\n",
       "      <td>1</td>\n",
       "    </tr>\n",
       "    <tr>\n",
       "      <th>136891</th>\n",
       "      <td>datasets/data/image/118/957/2012/fffe1ecdeca31...</td>\n",
       "      <td>3</td>\n",
       "    </tr>\n",
       "    <tr>\n",
       "      <th>136892</th>\n",
       "      <td>datasets/data/image/122/603/2014/ffff702a098bb...</td>\n",
       "      <td>1</td>\n",
       "    </tr>\n",
       "    <tr>\n",
       "      <th>136893</th>\n",
       "      <td>datasets/data/image/157/1917/2014/fffff866a0ae...</td>\n",
       "      <td>2</td>\n",
       "    </tr>\n",
       "  </tbody>\n",
       "</table>\n",
       "<p>136894 rows × 2 columns</p>\n",
       "</div>"
      ],
      "text/plain": [
       "                                                 img_path label\n",
       "0       datasets/data/image/77/160/2011/0002dbe4d037f0...     2\n",
       "1       datasets/data/image/32/544/2012/0003114e4114a9...     2\n",
       "2       datasets/data/image/84/1970/2012/0003748673d82...     4\n",
       "3       datasets/data/image/149/1799/2011/0003a38d99bf...     1\n",
       "4       datasets/data/image/157/1917/2011/0003d093bb65...     4\n",
       "...                                                   ...   ...\n",
       "136889  datasets/data/image/77/164/2011/fffd4c0e312e69...     4\n",
       "136890  datasets/data/image/100/248/2013/fffdf53f9e53f...     1\n",
       "136891  datasets/data/image/118/957/2012/fffe1ecdeca31...     3\n",
       "136892  datasets/data/image/122/603/2014/ffff702a098bb...     1\n",
       "136893  datasets/data/image/157/1917/2014/fffff866a0ae...     2\n",
       "\n",
       "[136894 rows x 2 columns]"
      ]
     },
     "execution_count": 9,
     "metadata": {},
     "output_type": "execute_result"
    }
   ],
   "source": [
    "df"
   ]
  },
  {
   "cell_type": "code",
   "execution_count": 10,
   "id": "faa19081",
   "metadata": {
    "scrolled": true
   },
   "outputs": [
    {
     "data": {
      "text/plain": [
       "4     49381\n",
       "5     31174\n",
       "3     23571\n",
       "1     18455\n",
       "2     13533\n",
       "-1      780\n",
       "Name: label, dtype: int64"
      ]
     },
     "execution_count": 10,
     "metadata": {},
     "output_type": "execute_result"
    }
   ],
   "source": [
    "df['label'].value_counts()"
   ]
  },
  {
   "cell_type": "code",
   "execution_count": 11,
   "id": "c7e6517f",
   "metadata": {},
   "outputs": [
    {
     "data": {
      "text/html": [
       "<div>\n",
       "<style scoped>\n",
       "    .dataframe tbody tr th:only-of-type {\n",
       "        vertical-align: middle;\n",
       "    }\n",
       "\n",
       "    .dataframe tbody tr th {\n",
       "        vertical-align: top;\n",
       "    }\n",
       "\n",
       "    .dataframe thead th {\n",
       "        text-align: right;\n",
       "    }\n",
       "</style>\n",
       "<table border=\"1\" class=\"dataframe\">\n",
       "  <thead>\n",
       "    <tr style=\"text-align: right;\">\n",
       "      <th></th>\n",
       "      <th>img_path</th>\n",
       "      <th>label</th>\n",
       "    </tr>\n",
       "  </thead>\n",
       "  <tbody>\n",
       "    <tr>\n",
       "      <th>0</th>\n",
       "      <td>datasets/data/image/77/160/2011/0002dbe4d037f0...</td>\n",
       "      <td>2</td>\n",
       "    </tr>\n",
       "    <tr>\n",
       "      <th>1</th>\n",
       "      <td>datasets/data/image/32/544/2012/0003114e4114a9...</td>\n",
       "      <td>2</td>\n",
       "    </tr>\n",
       "    <tr>\n",
       "      <th>2</th>\n",
       "      <td>datasets/data/image/84/1970/2012/0003748673d82...</td>\n",
       "      <td>4</td>\n",
       "    </tr>\n",
       "    <tr>\n",
       "      <th>3</th>\n",
       "      <td>datasets/data/image/149/1799/2011/0003a38d99bf...</td>\n",
       "      <td>1</td>\n",
       "    </tr>\n",
       "    <tr>\n",
       "      <th>4</th>\n",
       "      <td>datasets/data/image/157/1917/2011/0003d093bb65...</td>\n",
       "      <td>4</td>\n",
       "    </tr>\n",
       "    <tr>\n",
       "      <th>...</th>\n",
       "      <td>...</td>\n",
       "      <td>...</td>\n",
       "    </tr>\n",
       "    <tr>\n",
       "      <th>136889</th>\n",
       "      <td>datasets/data/image/77/164/2011/fffd4c0e312e69...</td>\n",
       "      <td>4</td>\n",
       "    </tr>\n",
       "    <tr>\n",
       "      <th>136890</th>\n",
       "      <td>datasets/data/image/100/248/2013/fffdf53f9e53f...</td>\n",
       "      <td>1</td>\n",
       "    </tr>\n",
       "    <tr>\n",
       "      <th>136891</th>\n",
       "      <td>datasets/data/image/118/957/2012/fffe1ecdeca31...</td>\n",
       "      <td>3</td>\n",
       "    </tr>\n",
       "    <tr>\n",
       "      <th>136892</th>\n",
       "      <td>datasets/data/image/122/603/2014/ffff702a098bb...</td>\n",
       "      <td>1</td>\n",
       "    </tr>\n",
       "    <tr>\n",
       "      <th>136893</th>\n",
       "      <td>datasets/data/image/157/1917/2014/fffff866a0ae...</td>\n",
       "      <td>2</td>\n",
       "    </tr>\n",
       "  </tbody>\n",
       "</table>\n",
       "<p>136114 rows × 2 columns</p>\n",
       "</div>"
      ],
      "text/plain": [
       "                                                 img_path label\n",
       "0       datasets/data/image/77/160/2011/0002dbe4d037f0...     2\n",
       "1       datasets/data/image/32/544/2012/0003114e4114a9...     2\n",
       "2       datasets/data/image/84/1970/2012/0003748673d82...     4\n",
       "3       datasets/data/image/149/1799/2011/0003a38d99bf...     1\n",
       "4       datasets/data/image/157/1917/2011/0003d093bb65...     4\n",
       "...                                                   ...   ...\n",
       "136889  datasets/data/image/77/164/2011/fffd4c0e312e69...     4\n",
       "136890  datasets/data/image/100/248/2013/fffdf53f9e53f...     1\n",
       "136891  datasets/data/image/118/957/2012/fffe1ecdeca31...     3\n",
       "136892  datasets/data/image/122/603/2014/ffff702a098bb...     1\n",
       "136893  datasets/data/image/157/1917/2014/fffff866a0ae...     2\n",
       "\n",
       "[136114 rows x 2 columns]"
      ]
     },
     "execution_count": 11,
     "metadata": {},
     "output_type": "execute_result"
    }
   ],
   "source": [
    "indices_to_drop = df[df['label'] == '-1'].index\n",
    "\n",
    "# Drop rows with the specified indices\n",
    "df = df.drop(indices_to_drop)\n",
    "df"
   ]
  },
  {
   "cell_type": "code",
   "execution_count": 12,
   "id": "af96a8e5",
   "metadata": {},
   "outputs": [
    {
     "name": "stdout",
     "output_type": "stream",
     "text": [
      "4    49381\n",
      "5    31174\n",
      "3    23571\n",
      "1    18455\n",
      "2    13533\n",
      "Name: label, dtype: int64\n"
     ]
    },
    {
     "data": {
      "text/plain": [
       "3    49381\n",
       "4    31174\n",
       "2    23571\n",
       "0    18455\n",
       "1    13533\n",
       "Name: label, dtype: int64"
      ]
     },
     "execution_count": 12,
     "metadata": {},
     "output_type": "execute_result"
    }
   ],
   "source": [
    "print(df['label'].value_counts())\n",
    "\n",
    "df['label'] = pd.to_numeric(df['label'], errors='coerce') - 1\n",
    "df['label'].value_counts()\n"
   ]
  },
  {
   "cell_type": "code",
   "execution_count": 13,
   "id": "72ca0ca2",
   "metadata": {},
   "outputs": [],
   "source": [
    "df.to_csv('compcars-angle.csv')"
   ]
  },
  {
   "cell_type": "code",
   "execution_count": null,
   "id": "fb2a1afd",
   "metadata": {},
   "outputs": [],
   "source": []
  }
 ],
 "metadata": {
  "kernelspec": {
   "display_name": "conda_pytorch_p310",
   "language": "python",
   "name": "conda_pytorch_p310"
  },
  "language_info": {
   "codemirror_mode": {
    "name": "ipython",
    "version": 3
   },
   "file_extension": ".py",
   "mimetype": "text/x-python",
   "name": "python",
   "nbconvert_exporter": "python",
   "pygments_lexer": "ipython3",
   "version": "3.10.14"
  }
 },
 "nbformat": 4,
 "nbformat_minor": 5
}
