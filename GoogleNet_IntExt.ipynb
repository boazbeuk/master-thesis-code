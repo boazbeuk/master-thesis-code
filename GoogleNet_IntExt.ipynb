{
 "cells": [
  {
   "cell_type": "code",
   "execution_count": 29,
   "id": "323f2fbe",
   "metadata": {},
   "outputs": [],
   "source": [
    "import s3fs\n",
    "import boto3\n",
    "import time\n",
    "\n",
    "from PIL import Image\n",
    "import numpy as np\n",
    "import hashlib\n",
    "import io\n",
    "import json\n",
    "import gc\n",
    "from tqdm import tqdm\n",
    "import pandas as pd\n",
    "import os\n",
    "\n",
    "import torch\n",
    "from torchvision import models\n",
    "from torchvision import transforms, models\n",
    "from torch.utils.data import DataLoader, Dataset\n",
    "import matplotlib.pyplot as plt\n",
    "\n",
    "import torch.nn as nn\n",
    "from torch.nn import functional as F\n",
    "import torch.optim as optim\n",
    "\n",
    "import matplotlib.pyplot as plt\n",
    "from sklearn.model_selection import train_test_split\n",
    "from sklearn.metrics import confusion_matrix, ConfusionMatrixDisplay,classification_report"
   ]
  },
  {
   "cell_type": "code",
   "execution_count": 18,
   "id": "60500222",
   "metadata": {},
   "outputs": [],
   "source": [
    "def init_clients():\n",
    "    return boto3.client(\"s3\"), s3fs.S3FileSystem()\n",
    "\n",
    "boto3_s3, s3fs_ = init_clients()"
   ]
  },
  {
   "cell_type": "code",
   "execution_count": 19,
   "id": "0a4aa6b3",
   "metadata": {},
   "outputs": [
    {
     "name": "stdout",
     "output_type": "stream",
     "text": [
      "Using device: cuda\n",
      "\n"
     ]
    }
   ],
   "source": [
    "device = torch.device('cuda' if torch.cuda.is_available() else 'cpu')\n",
    "print('Using device:', device)\n",
    "print()"
   ]
  },
  {
   "cell_type": "code",
   "execution_count": 20,
   "id": "a9883509",
   "metadata": {},
   "outputs": [],
   "source": [
    "def data_loading(path):\n",
    "    with open(path, 'r') as file:\n",
    "        test_data = json.load(file)\n",
    "    x = list(test_data.keys())\n",
    "    y = list(test_data.values())\n",
    "    train_x, test_x, train_y, test_y = train_test_split(x, y, test_size=0.3, random_state=42,stratify=y)\n",
    "    return train_x, test_x, train_y, test_y"
   ]
  },
  {
   "cell_type": "code",
   "execution_count": 21,
   "id": "06de785b",
   "metadata": {},
   "outputs": [],
   "source": [
    "def data_loading_COMPCAR():\n",
    "    train_x, test_x, train_y, test_y = data_loading('TESTDATA.json')\n",
    "\n",
    "    with open('COMPCAR.json', 'r') as file:\n",
    "        test_data = json.load(file)\n",
    "    x = list(test_data.keys())\n",
    "    y = list(test_data.values())\n",
    "    train_x_2, test_x_2, train_y_2, test_y_2 = train_test_split(x, y, test_size=0.90, random_state=42,stratify=y)\n",
    "\n",
    "    train_x.extend(train_x_2)\n",
    "    train_y.extend(train_y_2)\n",
    "    \n",
    "    test_x.extend(test_x_2[:1500])\n",
    "    test_y.extend(test_y_2[:1500])\n",
    "    return train_x, test_x, train_y, test_y"
   ]
  },
  {
   "cell_type": "code",
   "execution_count": 22,
   "id": "6bc4ced7",
   "metadata": {},
   "outputs": [],
   "source": [
    "def preprocess_image(image_bytes):\n",
    "    # Open the image as bytes\n",
    "    image = Image.open(io.BytesIO(image_bytes))\n",
    "\n",
    "    # Convert to grayscale\n",
    "    if image.mode != 'RGB':\n",
    "        image = image.convert('RGB')\n",
    "\n",
    "    # Convert image to numpy array\n",
    "    image_np = np.array(image)\n",
    "\n",
    "    # Convert the numpy array to PyTorch tensor\n",
    "    image_tensor = torch.tensor(image_np)\n",
    "\n",
    "    # Convert the tensor to 3D RGB (if it's not already)\n",
    "    if len(image_tensor.shape) == 2:\n",
    "        image_tensor = image_tensor.unsqueeze(0)  # Add batch dimension\n",
    "    image_tensor = image_tensor.permute(2, 0, 1)  # Convert HWC to CHW\n",
    "\n",
    "    # Normalize to [0, 1]\n",
    "    image_tensor = image_tensor.float() / 255.0\n",
    "\n",
    "    return image_tensor\n",
    "\n",
    "\n",
    "def process_duplicates_image_ids(model, image_paths: list, batch_size: int,\n",
    "                                 bucket: str, boto_s3: boto3.client(\"s3\"), \n",
    "                                 s3fs_: s3fs.S3FileSystem(), target_size=(256, 256)):\n",
    "    models = ['ResNet','VGG16', 'SVM', 'YOLO','Inception']\n",
    "    if model in models:\n",
    "        preprocess = transforms.Compose([transforms.Resize(target_size), transforms.ToTensor(),])\n",
    "\n",
    "    image_tensors = []\n",
    "    for i in tqdm(range(0, len(image_paths), batch_size), total=batch_size, desc='Processing Images'):\n",
    "        batch_image_paths = image_paths[i:i + batch_size]\n",
    "        batch_image_tensors = []\n",
    "        for ad_image in batch_image_paths:\n",
    "            if ad_image.lower().endswith(('.jpg', '.jpeg', '.png')):\n",
    "                image_path = \"/\".join(ad_image.split(\"/\")[1:])\n",
    "                s3_object = boto_s3.get_object(Bucket=bucket, Key=image_path)\n",
    "                image_bytes = s3_object['Body'].read()\n",
    "                image_tensor = preprocess_image(image_bytes)\n",
    "                batch_image_tensors.append(image_tensor)\n",
    "        # Resize or crop images to the target size before stacking\n",
    "        batch_image_tensors_resized = [transforms.functional.resize(image, target_size) for image in batch_image_tensors]\n",
    "        image_tensors.append(torch.stack(batch_image_tensors_resized))\n",
    "\n",
    "    # Concatenate processed batches\n",
    "    processed_image_tensors = torch.cat(image_tensors, dim=0)\n",
    "\n",
    "    # Display the shape and dtype of the tensor\n",
    "    print(\"Tensor Shape:\", processed_image_tensors.shape)\n",
    "    print(\"Tensor Dtype:\", processed_image_tensors.dtype)\n",
    "\n",
    "    return processed_image_tensors"
   ]
  },
  {
   "cell_type": "code",
   "execution_count": 23,
   "id": "67f28426",
   "metadata": {},
   "outputs": [],
   "source": [
    "class CustomDataset(Dataset):\n",
    "    def __init__(self, images, targets):\n",
    "        self.images = images\n",
    "        self.targets = targets\n",
    "\n",
    "    def __len__(self):\n",
    "        return len(self.images)\n",
    "\n",
    "    def __getitem__(self, idx):\n",
    "        image = self.images[idx]\n",
    "        target = self.targets[idx]\n",
    "\n",
    "        # Convert target label to one-hot encoded tensor\n",
    "        target_tensor = torch.tensor([target], dtype=torch.float32)\n",
    "\n",
    "        return image, target_tensor\n",
    "\n",
    "def dataloader(im,train_y,im_test,test_y):\n",
    "    train_images, val_images, train_targets, val_targets = train_test_split(im, train_y, test_size=0.3, random_state=42,stratify=train_y)\n",
    "\n",
    "    train_dataset = CustomDataset(train_images, train_targets)\n",
    "    val_dataset = CustomDataset(val_images, val_targets)\n",
    "    \n",
    "    test_dataset = CustomDataset(im_test, test_y)\n",
    "\n",
    "    train_batch_size = 32\n",
    "    val_batch_size = 32\n",
    "    test_batch_size = 32\n",
    "\n",
    "    train_loader = DataLoader(train_dataset, batch_size=train_batch_size, shuffle=True)\n",
    "    val_loader = DataLoader(val_dataset, batch_size=val_batch_size)\n",
    "    test_loader = DataLoader(test_dataset, batch_size=test_batch_size)\n",
    "    \n",
    "    return train_loader,val_loader,test_loader"
   ]
  },
  {
   "cell_type": "code",
   "execution_count": 24,
   "id": "ac72be56",
   "metadata": {},
   "outputs": [],
   "source": [
    "def train_trainedGOOGLE(epochs, train_loader, val_loader):\n",
    "    start_time = time.time()\n",
    "    model = models.googlenet(pretrained=True).to(device)\n",
    "    model.aux_logits = False\n",
    "    for param in model.parameters():\n",
    "        param.requires_grad = False   \n",
    "    model.fc = nn.Sequential(\n",
    "        nn.Linear(1024, 1),  # Output layer with 5 units for multi-class classification\n",
    "        nn.Sigmoid()\n",
    "    ).to(device)\n",
    "\n",
    "    criterion = nn.BCELoss()\n",
    "    optimizer = optim.Adam(model.fc.parameters())\n",
    "\n",
    "    num_epochs = epochs\n",
    "    train_losses = []\n",
    "    validation_losses = []\n",
    "\n",
    "    best_validation_loss = float('inf')\n",
    "    best_model_state = None\n",
    "\n",
    "    for epoch in range(num_epochs):\n",
    "        model.train()\n",
    "        for images, targets in train_loader:\n",
    "            images, targets = images.to(device), targets.to(device)\n",
    "            optimizer.zero_grad()\n",
    "            outputs = model(images)\n",
    "            loss = criterion(outputs, targets).to(device)\n",
    "            loss.backward()\n",
    "            optimizer.step()\n",
    "\n",
    "        model.eval()\n",
    "        with torch.no_grad():\n",
    "            train_loss = 0.0\n",
    "            for images, targets in val_loader:\n",
    "                images, targets = images.to(device), targets.to(device)\n",
    "                outputs = model(images)\n",
    "                val_loss = criterion(outputs, targets).to(device)\n",
    "                train_loss += val_loss.item()\n",
    "\n",
    "        train_loss /= len(val_loader)\n",
    "        validation_loss = val_loss.item()\n",
    "\n",
    "        train_losses.append(train_loss)\n",
    "        validation_losses.append(validation_loss)\n",
    "\n",
    "        if validation_loss < best_validation_loss:\n",
    "            best_validation_loss = validation_loss\n",
    "            best_model_state = model.state_dict()\n",
    "\n",
    "        print(f'Epoch {epoch+1}/{num_epochs}, Train Loss: {train_loss}, Val Loss: {validation_loss}')\n",
    "\n",
    "    plt.plot(range(1, num_epochs + 1), train_losses, label='Training set')\n",
    "    plt.plot(range(1, num_epochs + 1), validation_losses, label='Validation set')\n",
    "    plt.xlabel('Epochs')\n",
    "    plt.ylabel('Loss')\n",
    "    plt.title('Training and validation loss GoogleNet')\n",
    "    plt.legend()\n",
    "    plt.savefig('training_validation_figure.png')\n",
    "    plt.show()\n",
    "\n",
    "    torch.save(best_model_state, 'model_google_intext.pth')\n",
    "    end_time = time.time()\n",
    "    print(\"Time taken for training:\", end_time - start_time, \"seconds\")\n",
    "    return best_model_state, model\n"
   ]
  },
  {
   "cell_type": "code",
   "execution_count": 25,
   "id": "dbdc6f93",
   "metadata": {},
   "outputs": [],
   "source": [
    "def test_GOOGLE(best_model_state, model, test_loader):\n",
    "    start_time = time.time()\n",
    "\n",
    "    model.load_state_dict(best_model_state)\n",
    "    model.eval()\n",
    "\n",
    "    predictions = []\n",
    "    with torch.no_grad():\n",
    "        for images, _ in test_loader:\n",
    "            images = images.to(device)\n",
    "            outputs = model(images)\n",
    "            predictions.append(outputs)\n",
    "\n",
    "    predictions = torch.cat(predictions, dim=0).to(device)\n",
    "    threshold = 0.5\n",
    "    predicted_labels = (predictions > threshold).float()\n",
    "\n",
    "    predicted_labels = predicted_labels.int()\n",
    "\n",
    "    result = predicted_labels.squeeze().tolist()\n",
    "    end_time = time.time()\n",
    "    print(\"Time taken for testing:\", end_time - start_time, \"seconds\")\n",
    "    return result\n"
   ]
  },
  {
   "cell_type": "code",
   "execution_count": 26,
   "id": "9264f48a",
   "metadata": {},
   "outputs": [],
   "source": [
    "def show_matrix(test_y,result,filename=None):\n",
    "    print(classification_report(test_y, result))\n",
    "    cm = confusion_matrix(test_y, result)\n",
    "    disp = ConfusionMatrixDisplay(confusion_matrix=cm,display_labels=['interior','exterior'])\n",
    "    disp.plot()\n",
    "    if filename:\n",
    "        plt.savefig(filename)\n",
    "    else:\n",
    "        plt.show()"
   ]
  },
  {
   "cell_type": "code",
   "execution_count": null,
   "id": "0a7d2429",
   "metadata": {},
   "outputs": [],
   "source": []
  },
  {
   "cell_type": "code",
   "execution_count": 27,
   "id": "4f171d1b",
   "metadata": {},
   "outputs": [],
   "source": [
    "def main_trainedGoogle():\n",
    "    train_x, test_x, train_y, test_y = data_loading_COMPCAR()\n",
    "    im = process_duplicates_image_ids('Inception',image_paths=train_x,batch_size=100,bucket=\"dpgos-osdata-boaz-beukers-sandbox\",\n",
    "        boto_s3=boto3_s3,\n",
    "        s3fs_=s3fs_)\n",
    "    im_test = process_duplicates_image_ids('Inception',image_paths=test_x,batch_size=100,bucket=\"dpgos-osdata-boaz-beukers-sandbox\",\n",
    "        boto_s3=boto3_s3,\n",
    "        s3fs_=s3fs_)\n",
    "    train_loader,val_loader,test_loader = dataloader(im,train_y,im_test,test_y)\n",
    "    best_model,model = train_trainedGOOGLE(30,train_loader,val_loader)\n",
    "    result = test_GOOGLE(best_model,model,test_loader)\n",
    "    matrix = show_matrix(test_y,result,filename='ANGLE_trainedGOOGLENET_results.png')"
   ]
  },
  {
   "cell_type": "code",
   "execution_count": 30,
   "id": "0559f045",
   "metadata": {},
   "outputs": [
    {
     "name": "stderr",
     "output_type": "stream",
     "text": [
      "Processing Images:   0%|          | 0/100 [00:00<?, ?it/s]/home/ec2-user/anaconda3/envs/pytorch_p310/lib/python3.10/site-packages/torchvision/transforms/functional.py:1603: UserWarning: The default value of the antialias parameter of all the resizing transforms (Resize(), RandomResizedCrop(), etc.) will change from None to True in v0.17, in order to be consistent across the PIL and Tensor backends. To suppress this warning, directly pass antialias=True (recommended, future default), antialias=None (current default, which means False for Tensors and True for PIL), or antialias=False (only works on Tensors - PIL will still use antialiasing). This also applies if you are using the inference transforms from the models weights: update the call to weights.transforms(antialias=True).\n",
      "  warnings.warn(\n",
      "Processing Images:  54%|█████▍    | 54/100 [07:52<06:42,  8.76s/it]\n"
     ]
    },
    {
     "name": "stdout",
     "output_type": "stream",
     "text": [
      "Tensor Shape: torch.Size([5324, 3, 256, 256])\n",
      "Tensor Dtype: torch.float32\n"
     ]
    },
    {
     "name": "stderr",
     "output_type": "stream",
     "text": [
      "Processing Images:  27%|██▋       | 27/100 [03:49<10:20,  8.50s/it]\n"
     ]
    },
    {
     "name": "stdout",
     "output_type": "stream",
     "text": [
      "Tensor Shape: torch.Size([2661, 3, 256, 256])\n",
      "Tensor Dtype: torch.float32\n"
     ]
    },
    {
     "name": "stderr",
     "output_type": "stream",
     "text": [
      "/home/ec2-user/anaconda3/envs/pytorch_p310/lib/python3.10/site-packages/torchvision/models/_utils.py:208: UserWarning: The parameter 'pretrained' is deprecated since 0.13 and may be removed in the future, please use 'weights' instead.\n",
      "  warnings.warn(\n",
      "/home/ec2-user/anaconda3/envs/pytorch_p310/lib/python3.10/site-packages/torchvision/models/_utils.py:223: UserWarning: Arguments other than a weight enum or `None` for 'weights' are deprecated since 0.13 and may be removed in the future. The current behavior is equivalent to passing `weights=GoogLeNet_Weights.IMAGENET1K_V1`. You can also use `weights=GoogLeNet_Weights.DEFAULT` to get the most up-to-date weights.\n",
      "  warnings.warn(msg)\n",
      "Downloading: \"https://download.pytorch.org/models/googlenet-1378be20.pth\" to /home/ec2-user/.cache/torch/hub/checkpoints/googlenet-1378be20.pth\n",
      "100%|██████████| 49.7M/49.7M [00:00<00:00, 135MB/s]\n"
     ]
    },
    {
     "name": "stdout",
     "output_type": "stream",
     "text": [
      "Epoch 1/30, Train Loss: 0.21059586405754088, Val Loss: 0.18773169815540314\n",
      "Epoch 2/30, Train Loss: 0.14295362889766694, Val Loss: 0.12199408560991287\n",
      "Epoch 3/30, Train Loss: 0.11455515071749688, Val Loss: 0.10259880870580673\n",
      "Epoch 4/30, Train Loss: 0.10556824125349522, Val Loss: 0.10575813055038452\n",
      "Epoch 5/30, Train Loss: 0.09342943906784057, Val Loss: 0.09404660016298294\n",
      "Epoch 6/30, Train Loss: 0.08607908226549625, Val Loss: 0.08164012432098389\n",
      "Epoch 7/30, Train Loss: 0.07994370374828577, Val Loss: 0.07704779505729675\n",
      "Epoch 8/30, Train Loss: 0.07761281691491603, Val Loss: 0.09084907919168472\n",
      "Epoch 9/30, Train Loss: 0.07309696692973375, Val Loss: 0.0815185084939003\n",
      "Epoch 10/30, Train Loss: 0.07618148986250162, Val Loss: 0.08624913543462753\n",
      "Epoch 11/30, Train Loss: 0.06898135179653764, Val Loss: 0.08892001956701279\n",
      "Epoch 12/30, Train Loss: 0.07143110364675521, Val Loss: 0.08656424283981323\n",
      "Epoch 13/30, Train Loss: 0.06561649326235056, Val Loss: 0.0833381786942482\n",
      "Epoch 14/30, Train Loss: 0.06400261782109737, Val Loss: 0.08570288121700287\n",
      "Epoch 15/30, Train Loss: 0.06269290074706077, Val Loss: 0.08516661822795868\n",
      "Epoch 16/30, Train Loss: 0.06288378056138753, Val Loss: 0.0793701708316803\n",
      "Epoch 17/30, Train Loss: 0.06203860983252525, Val Loss: 0.08391029387712479\n",
      "Epoch 18/30, Train Loss: 0.06149925107136369, Val Loss: 0.08297542482614517\n",
      "Epoch 19/30, Train Loss: 0.05985569879412651, Val Loss: 0.08160608261823654\n",
      "Epoch 20/30, Train Loss: 0.060341502651572225, Val Loss: 0.08700525760650635\n",
      "Epoch 21/30, Train Loss: 0.05960640768520534, Val Loss: 0.08625052869319916\n",
      "Epoch 22/30, Train Loss: 0.06512551756575703, Val Loss: 0.08953108638525009\n",
      "Epoch 23/30, Train Loss: 0.05848668972961604, Val Loss: 0.09217275679111481\n",
      "Epoch 24/30, Train Loss: 0.05818594058975577, Val Loss: 0.07779265940189362\n",
      "Epoch 25/30, Train Loss: 0.05604069833643734, Val Loss: 0.07978687435388565\n",
      "Epoch 26/30, Train Loss: 0.05590211652219296, Val Loss: 0.0941954031586647\n",
      "Epoch 27/30, Train Loss: 0.060530195189639924, Val Loss: 0.08803590387105942\n",
      "Epoch 28/30, Train Loss: 0.060995737155899406, Val Loss: 0.09800723940134048\n",
      "Epoch 29/30, Train Loss: 0.05689684667624533, Val Loss: 0.09919539093971252\n",
      "Epoch 30/30, Train Loss: 0.06042526609264314, Val Loss: 0.09847577661275864\n"
     ]
    },
    {
     "data": {
      "image/png": "[encoded data removed]",
      "text/plain": [
       "<Figure size 640x480 with 1 Axes>"
      ]
     },
     "metadata": {},
     "output_type": "display_data"
    },
    {
     "name": "stdout",
     "output_type": "stream",
     "text": [
      "Time taken for training: 231.50306797027588 seconds\n",
      "Time taken for testing: 3.6443395614624023 seconds\n",
      "              precision    recall  f1-score   support\n",
      "\n",
      "           0       0.97      0.99      0.98      1477\n",
      "           1       0.99      0.96      0.97      1184\n",
      "\n",
      "    accuracy                           0.98      2661\n",
      "   macro avg       0.98      0.98      0.98      2661\n",
      "weighted avg       0.98      0.98      0.98      2661\n",
      "\n"
     ]
    },
    {
     "data": {
      "image/png": "[encoded data removed]",
      "text/plain": [
       "<Figure size 640x480 with 2 Axes>"
      ]
     },
     "metadata": {},
     "output_type": "display_data"
    }
   ],
   "source": [
    "main_trainedGoogle()"
   ]
  },
  {
   "cell_type": "code",
   "execution_count": null,
   "id": "39230d4c",
   "metadata": {},
   "outputs": [],
   "source": []
  }
 ],
 "metadata": {
  "kernelspec": {
   "display_name": "conda_pytorch_p310",
   "language": "python",
   "name": "conda_pytorch_p310"
  },
  "language_info": {
   "codemirror_mode": {
    "name": "ipython",
    "version": 3
   },
   "file_extension": ".py",
   "mimetype": "text/x-python",
   "name": "python",
   "nbconvert_exporter": "python",
   "pygments_lexer": "ipython3",
   "version": "3.10.14"
  }
 },
 "nbformat": 4,
 "nbformat_minor": 5
}
