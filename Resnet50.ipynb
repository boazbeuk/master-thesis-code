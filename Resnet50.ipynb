{
 "cells": [
  {
   "cell_type": "code",
   "execution_count": 1,
   "id": "3d75dd8f",
   "metadata": {},
   "outputs": [],
   "source": [
    "import s3fs\n",
    "import boto3\n",
    "import time\n",
    "\n",
    "from PIL import Image\n",
    "import numpy as np\n",
    "import hashlib\n",
    "import io\n",
    "import json\n",
    "import gc\n",
    "from tqdm import tqdm\n",
    "\n",
    "import torch\n",
    "from torchvision.models import resnet50, ResNet50_Weights\n",
    "from torchvision import transforms, models\n",
    "from torchvision.models import vgg16, VGG16_Weights\n",
    "from torchvision import datasets\n",
    "from torch.utils.data import Dataset, DataLoader\n",
    "\n",
    "import torch.nn as nn\n",
    "from torch.nn import functional as F\n",
    "import torch.optim as optim\n",
    "\n",
    "import matplotlib.pyplot as plt\n",
    "from sklearn.model_selection import train_test_split\n",
    "from sklearn.metrics import confusion_matrix, ConfusionMatrixDisplay,classification_report"
   ]
  },
  {
   "cell_type": "code",
   "execution_count": 2,
   "id": "ae447e24",
   "metadata": {},
   "outputs": [],
   "source": [
    "def init_clients():\n",
    "    return boto3.client(\"s3\"), s3fs.S3FileSystem()\n",
    "\n",
    "boto3_s3, s3fs_ = init_clients()"
   ]
  },
  {
   "cell_type": "code",
   "execution_count": 18,
   "id": "214d79e5",
   "metadata": {},
   "outputs": [
    {
     "name": "stdout",
     "output_type": "stream",
     "text": [
      "Using device: cuda\n",
      "\n"
     ]
    }
   ],
   "source": [
    "device = torch.device('cuda' if torch.cuda.is_available() else 'cpu')\n",
    "print('Using device:', device)\n",
    "print()\n",
    "# device = 'cpu'\n"
   ]
  },
  {
   "cell_type": "code",
   "execution_count": 3,
   "id": "a45f0955",
   "metadata": {},
   "outputs": [],
   "source": [
    "def data_loading(path):\n",
    "    with open(path, 'r') as file:\n",
    "        test_data = json.load(file)\n",
    "    x = list(test_data.keys())\n",
    "    y = list(test_data.values())\n",
    "    train_x, test_x, train_y, test_y = train_test_split(x, y, test_size=0.3, random_state=42,stratify=y)\n",
    "    return train_x, test_x, train_y, test_y"
   ]
  },
  {
   "cell_type": "code",
   "execution_count": 4,
   "id": "ddcfc66c",
   "metadata": {},
   "outputs": [
    {
     "data": {
      "text/plain": [
       "2706"
      ]
     },
     "execution_count": 4,
     "metadata": {},
     "output_type": "execute_result"
    }
   ],
   "source": [
    "train_x, test_x, train_y, test_y = data_loading('TESTDATA.json')\n",
    "len(train_x)"
   ]
  },
  {
   "cell_type": "code",
   "execution_count": 5,
   "id": "c3d5d9da",
   "metadata": {},
   "outputs": [],
   "source": [
    "def data_loading_COMPCAR():\n",
    "    train_x, test_x, train_y, test_y = data_loading('TESTDATA.json')\n",
    "\n",
    "    with open('COMPCAR.json', 'r') as file:\n",
    "        test_data = json.load(file)\n",
    "    x = list(test_data.keys())\n",
    "    y = list(test_data.values())\n",
    "    train_x_2, test_x_2, train_y_2, test_y_2 = train_test_split(x, y, test_size=0.90, random_state=42,stratify=y)\n",
    "\n",
    "    train_x.extend(train_x_2)\n",
    "    train_y.extend(train_y_2)\n",
    "    \n",
    "    test_x.extend(test_x_2[:1500])\n",
    "    test_y.extend(test_y_2[:1500])\n",
    "    return train_x, test_x, train_y, test_y"
   ]
  },
  {
   "cell_type": "code",
   "execution_count": 6,
   "id": "929abcb4",
   "metadata": {},
   "outputs": [],
   "source": [
    "train_x, test_x, train_y, test_y = data_loading_COMPCAR()"
   ]
  },
  {
   "cell_type": "code",
   "execution_count": 7,
   "id": "ae98db76",
   "metadata": {},
   "outputs": [],
   "source": [
    "def preprocess_image(image_bytes):\n",
    "    # Open the image as bytes\n",
    "    image = Image.open(io.BytesIO(image_bytes))\n",
    "\n",
    "    # Convert to grayscale\n",
    "    if image.mode != 'RGB':\n",
    "        image = image.convert('RGB')\n",
    "\n",
    "    # Convert image to numpy array\n",
    "    image_np = np.array(image)\n",
    "\n",
    "    # Convert the numpy array to PyTorch tensor\n",
    "    image_tensor = torch.tensor(image_np)\n",
    "\n",
    "    # Convert the tensor to 3D RGB (if it's not already)\n",
    "    if len(image_tensor.shape) == 2:\n",
    "        image_tensor = image_tensor.unsqueeze(0)  # Add batch dimension\n",
    "    image_tensor = image_tensor.permute(2, 0, 1)  # Convert HWC to CHW\n",
    "\n",
    "    # Normalize to [0, 1]\n",
    "    image_tensor = image_tensor.float() / 255.0\n",
    "\n",
    "    return image_tensor\n",
    "\n",
    "\n",
    "def process_duplicates_image_ids(model, image_paths: list, batch_size: int,\n",
    "                                 bucket: str, boto_s3: boto3.client(\"s3\"), \n",
    "                                 s3fs_: s3fs.S3FileSystem(), target_size=(256, 256)):\n",
    "    models = ['ResNet','VGG16', 'SVM', 'YOLO']\n",
    "    if model in models:\n",
    "        preprocess = transforms.Compose([transforms.Resize(target_size), transforms.ToTensor(),])\n",
    "\n",
    "    image_tensors = []\n",
    "    for i in tqdm(range(0, len(image_paths), batch_size), total=len(image_paths)//batch_size, desc='Processing Images'):\n",
    "        batch_image_paths = image_paths[i:i + batch_size]\n",
    "        batch_image_tensors = []\n",
    "        for ad_image in batch_image_paths:\n",
    "            if ad_image.lower().endswith(('.jpg', '.jpeg', '.png')):\n",
    "                image_path = \"/\".join(ad_image.split(\"/\")[1:])\n",
    "                s3_object = boto_s3.get_object(Bucket=bucket, Key=image_path)\n",
    "                image_bytes = s3_object['Body'].read()\n",
    "                image_tensor = preprocess_image(image_bytes)\n",
    "                batch_image_tensors.append(image_tensor)\n",
    "        # Resize or crop images to the target size before stacking\n",
    "        batch_image_tensors_resized = [transforms.functional.resize(image, target_size) for image in batch_image_tensors]\n",
    "        image_tensors.append(torch.stack(batch_image_tensors_resized))\n",
    "\n",
    "    # Concatenate processed batches\n",
    "    processed_image_tensors = torch.cat(image_tensors, dim=0)\n",
    "\n",
    "    # Display the shape and dtype of the tensor\n",
    "    print(\"Tensor Shape:\", processed_image_tensors.shape)\n",
    "    print(\"Tensor Dtype:\", processed_image_tensors.dtype)\n",
    "\n",
    "    return processed_image_tensors"
   ]
  },
  {
   "cell_type": "code",
   "execution_count": 8,
   "id": "3c3dbeea",
   "metadata": {},
   "outputs": [],
   "source": [
    "def run_ResNet(im):\n",
    "    labels = []\n",
    "    # Step 1: Initialize model with the best available weights\n",
    "    weights = ResNet50_Weights.DEFAULT\n",
    "    model = resnet50(weights=weights).to(device)\n",
    "    model.eval()\n",
    "\n",
    "    # Step 2: Initialize the inference transforms\n",
    "    preprocess = weights.transforms()\n",
    "    image_tensors = im\n",
    "    # Step 3: Apply inference preprocessing transforms\n",
    "    batch = preprocess(image_tensors)\n",
    "    batch = batch.to(device)\n",
    "    start_time = time.time()\n",
    "\n",
    "    with torch.no_grad():\n",
    "        predictions = model(batch).softmax(1)\n",
    "        predictions = predictions.to(device)\n",
    "        top_probs, top_indices = torch.topk(predictions, k=7, dim=1)\n",
    "\n",
    "        for i in range(len(image_tensors)):\n",
    "            #print(f\"Predictions for image {i + 1}:\")\n",
    "            image_labels = [] \n",
    "            for j in range(7):  # Top 3 predictions\n",
    "                class_id = top_indices[i][j].item()\n",
    "                score = top_probs[i][j].item()\n",
    "                category_name = weights.meta[\"categories\"][class_id]\n",
    "                if score > 0.01:\n",
    "                    image_labels.append(category_name)\n",
    "                else:\n",
    "                    category_name = ''\n",
    "                    image_labels.append(category_name)\n",
    "\n",
    "                #print(f\"{j + 1}. {category_name}: {100 * score:.1f}%\")\n",
    "\n",
    "            labels.append(image_labels)\n",
    "    end_time = time.time()\n",
    "    print(\"Time taken for testing:\", end_time - start_time, \"seconds\")\n",
    "    return labels"
   ]
  },
  {
   "cell_type": "code",
   "execution_count": 9,
   "id": "00b05398",
   "metadata": {
    "scrolled": false
   },
   "outputs": [],
   "source": [
    "def get_result(labels):\n",
    "    exterior = ['ambulance','car wheel','racer','golfcart','mobile home','beach wagon', \n",
    "                'convertible','garbage truck','jeep', 'limousine', 'mini bus','minibus',\n",
    "                'minivan','mini van','moving van', 'passenger car','recreational vehicle', 'school bus', \n",
    "                'sports car','trailor truck','trolley bus', 'cab', 'freight car', 'police van', 'grille', 'pickup']\n",
    "\n",
    "    result_resnet = [1 if (sublist[0] in exterior or sublist[1] in exterior or sublist[2] in exterior)\n",
    "                  else 0 for sublist in labels]\n",
    "\n",
    "    result_resnet = [0 if ('seat belt' in sublist or 'sliding door' in sublist or 'stretcher' in sublist\n",
    "                        or 'odometer' in sublist or 'radio' in sublist or 'cassette player' in sublist\n",
    "                        or 'loudspeaker' in sublist or 'barber chair' in sublist or 'electric fan' in sublist\n",
    "                        or 'desk' in sublist or 'microwave' in sublist or 'home theater' in sublist\n",
    "                        or 'dining table' in sublist or 'folding chair' in sublist or 'studio couch' in sublist\n",
    "                        or 'neck brace' in sublist) else val for sublist, val in zip(labels, result_resnet)]\n",
    "    return result_resnet"
   ]
  },
  {
   "cell_type": "code",
   "execution_count": 10,
   "id": "7312d0a2",
   "metadata": {},
   "outputs": [],
   "source": [
    "def show_matrix(test_y,result,filename=None):\n",
    "    print(classification_report(test_y, result))\n",
    "    cm = confusion_matrix(test_y, result)\n",
    "    disp = ConfusionMatrixDisplay(confusion_matrix=cm,display_labels=['interior','exterior'])\n",
    "    disp.plot()\n",
    "    if filename:\n",
    "        plt.savefig(filename)\n",
    "    else:\n",
    "        plt.show()"
   ]
  },
  {
   "cell_type": "code",
   "execution_count": 12,
   "id": "22556f57",
   "metadata": {},
   "outputs": [
    {
     "name": "stderr",
     "output_type": "stream",
     "text": [
      "Processing Images:   0%|          | 0/26 [00:00<?, ?it/s]/home/ec2-user/anaconda3/envs/pytorch_p310/lib/python3.10/site-packages/torchvision/transforms/functional.py:1603: UserWarning: The default value of the antialias parameter of all the resizing transforms (Resize(), RandomResizedCrop(), etc.) will change from None to True in v0.17, in order to be consistent across the PIL and Tensor backends. To suppress this warning, directly pass antialias=True (recommended, future default), antialias=None (current default, which means False for Tensors and True for PIL), or antialias=False (only works on Tensors - PIL will still use antialiasing). This also applies if you are using the inference transforms from the models weights: update the call to weights.transforms(antialias=True).\n",
      "  warnings.warn(\n",
      "Processing Images: 27it [04:21,  9.68s/it]                        "
     ]
    },
    {
     "name": "stdout",
     "output_type": "stream",
     "text": [
      "Tensor Shape: torch.Size([2661, 3, 256, 256])\n",
      "Tensor Dtype: torch.float32\n"
     ]
    },
    {
     "name": "stderr",
     "output_type": "stream",
     "text": [
      "\n"
     ]
    }
   ],
   "source": [
    "train_x, test_x, train_y, test_y = data_loading_COMPCAR()\n",
    "gc.collect()\n",
    "im = process_duplicates_image_ids('ResNet',image_paths=test_x,batch_size=100,bucket=\"dpgos-osdata-boaz-beukers-sandbox\",\n",
    "                boto_s3=boto3_s3,\n",
    "                s3fs_=s3fs_)"
   ]
  },
  {
   "cell_type": "code",
   "execution_count": 21,
   "id": "cd389888",
   "metadata": {},
   "outputs": [],
   "source": [
    "def main_Resnet50():\n",
    "    label = run_ResNet(im)\n",
    "    result = get_result(label)\n",
    "    show_matrix(test_y,result,filename='ResNet50_results.png')\n",
    "    return result"
   ]
  },
  {
   "cell_type": "code",
   "execution_count": 22,
   "id": "2af59bf9",
   "metadata": {},
   "outputs": [
    {
     "name": "stderr",
     "output_type": "stream",
     "text": [
      "/home/ec2-user/anaconda3/envs/pytorch_p310/lib/python3.10/site-packages/torchvision/transforms/functional.py:1603: UserWarning: The default value of the antialias parameter of all the resizing transforms (Resize(), RandomResizedCrop(), etc.) will change from None to True in v0.17, in order to be consistent across the PIL and Tensor backends. To suppress this warning, directly pass antialias=True (recommended, future default), antialias=None (current default, which means False for Tensors and True for PIL), or antialias=False (only works on Tensors - PIL will still use antialiasing). This also applies if you are using the inference transforms from the models weights: update the call to weights.transforms(antialias=True).\n",
      "  warnings.warn(\n"
     ]
    },
    {
     "name": "stdout",
     "output_type": "stream",
     "text": [
      "Time taken for testing: 61.59763050079346 seconds\n",
      "              precision    recall  f1-score   support\n",
      "\n",
      "           0       0.96      0.97      0.97      1477\n",
      "           1       0.96      0.95      0.96      1184\n",
      "\n",
      "    accuracy                           0.96      2661\n",
      "   macro avg       0.96      0.96      0.96      2661\n",
      "weighted avg       0.96      0.96      0.96      2661\n",
      "\n"
     ]
    },
    {
     "data": {
      "image/png": "[encoded data removed]",
      "text/plain": [
       "<Figure size 640x480 with 2 Axes>"
      ]
     },
     "metadata": {},
     "output_type": "display_data"
    }
   ],
   "source": [
    "result = main_Resnet50()"
   ]
  },
  {
   "cell_type": "markdown",
   "id": "8967533e",
   "metadata": {},
   "source": [
    "\n"
   ]
  },
  {
   "cell_type": "code",
   "execution_count": 25,
   "id": "52224911",
   "metadata": {},
   "outputs": [
    {
     "data": {
      "text/plain": [
       "[123,\n",
       " 125,\n",
       " 126,\n",
       " 132,\n",
       " 139,\n",
       " 158,\n",
       " 188,\n",
       " 233,\n",
       " 242,\n",
       " 262,\n",
       " 281,\n",
       " 297,\n",
       " 301,\n",
       " 322,\n",
       " 342,\n",
       " 344,\n",
       " 396,\n",
       " 412,\n",
       " 440,\n",
       " 446,\n",
       " 460,\n",
       " 473,\n",
       " 474,\n",
       " 566,\n",
       " 577,\n",
       " 606,\n",
       " 620,\n",
       " 622,\n",
       " 638,\n",
       " 706,\n",
       " 708,\n",
       " 717,\n",
       " 736,\n",
       " 744,\n",
       " 752,\n",
       " 780,\n",
       " 782,\n",
       " 846,\n",
       " 860,\n",
       " 878,\n",
       " 881,\n",
       " 887,\n",
       " 891,\n",
       " 961,\n",
       " 963,\n",
       " 1007,\n",
       " 1013,\n",
       " 1027,\n",
       " 1028,\n",
       " 1090,\n",
       " 1097,\n",
       " 1104,\n",
       " 1113,\n",
       " 1143,\n",
       " 1224,\n",
       " 1314,\n",
       " 1329,\n",
       " 1380,\n",
       " 1388,\n",
       " 1425,\n",
       " 1429,\n",
       " 1437,\n",
       " 1458,\n",
       " 1467,\n",
       " 1473,\n",
       " 1510,\n",
       " 1537,\n",
       " 1555,\n",
       " 1565,\n",
       " 1623,\n",
       " 1655,\n",
       " 1778,\n",
       " 1793,\n",
       " 1807,\n",
       " 1862,\n",
       " 1887,\n",
       " 1895,\n",
       " 1950,\n",
       " 1956,\n",
       " 1971,\n",
       " 1972,\n",
       " 2090,\n",
       " 2092,\n",
       " 2108,\n",
       " 2244,\n",
       " 2261,\n",
       " 2392,\n",
       " 2419,\n",
       " 2421,\n",
       " 2437,\n",
       " 2465,\n",
       " 2519,\n",
       " 2541,\n",
       " 2542,\n",
       " 2594,\n",
       " 2629,\n",
       " 2646,\n",
       " 2651]"
      ]
     },
     "execution_count": 25,
     "metadata": {},
     "output_type": "execute_result"
    }
   ],
   "source": [
    "misclassified_indices = []\n",
    "for i in range(len(test_y)):\n",
    "    if test_y[i] != result[i]:\n",
    "        misclassified_indices.append(i)\n",
    "        \n",
    "misclassified_indices\n",
    "\n"
   ]
  },
  {
   "cell_type": "markdown",
   "id": "89685663",
   "metadata": {},
   "source": [
    "# ResNet50 last layers trained\n"
   ]
  },
  {
   "cell_type": "code",
   "execution_count": 11,
   "id": "ec27ec42",
   "metadata": {},
   "outputs": [],
   "source": [
    "class CustomDataset(Dataset):\n",
    "    def __init__(self, images, targets):\n",
    "        self.images = images\n",
    "        self.targets = targets\n",
    "\n",
    "    def __len__(self):\n",
    "        return len(self.images)\n",
    "\n",
    "    def __getitem__(self, idx):\n",
    "        image = self.images[idx]\n",
    "        target = self.targets[idx]\n",
    "\n",
    "        # Convert target label to one-hot encoded tensor\n",
    "        target_tensor = torch.tensor([target], dtype=torch.float32)\n",
    "\n",
    "        return image, target_tensor\n",
    "\n",
    "def dataloader(im,train_y,im_test,test_y):\n",
    "    train_images, val_images, train_targets, val_targets = train_test_split(im, train_y, test_size=0.3, random_state=42,stratify=train_y)\n",
    "\n",
    "    train_dataset = CustomDataset(train_images, train_targets)\n",
    "    val_dataset = CustomDataset(val_images, val_targets)\n",
    "    \n",
    "    test_dataset = CustomDataset(im_test, test_y)\n",
    "\n",
    "    train_batch_size = 32\n",
    "    val_batch_size = 32\n",
    "    test_batch_size = 32\n",
    "\n",
    "    train_loader = DataLoader(train_dataset, batch_size=train_batch_size, shuffle=True)\n",
    "    val_loader = DataLoader(val_dataset, batch_size=val_batch_size)\n",
    "    test_loader = DataLoader(test_dataset, batch_size=test_batch_size)\n",
    "    \n",
    "    return train_loader,val_loader,test_loader"
   ]
  },
  {
   "cell_type": "code",
   "execution_count": 12,
   "id": "abb41d7c",
   "metadata": {},
   "outputs": [],
   "source": [
    "def train_trainedResNet(epochs,train_loader,val_loader):\n",
    "    start_time = time.time()\n",
    "\n",
    "    model = resnet50(pretrained=True).to(device)\n",
    "\n",
    "\n",
    "    for param in model.parameters():\n",
    "        param.requires_grad = False   \n",
    "\n",
    "    model.fc = nn.Sequential(\n",
    "        nn.Linear(2048, 1, bias=True),\n",
    "        nn.Sigmoid() \n",
    "    ).to(device)\n",
    "    criterion = nn.BCELoss()\n",
    "    optimizer = optim.Adam(model.fc.parameters())\n",
    "\n",
    "\n",
    "    num_epochs = epochs\n",
    "    train_loss = []\n",
    "    validation_loss = []\n",
    "    best_combined_loss = float('inf')\n",
    "\n",
    "    for epoch in range(num_epochs):\n",
    "        model.train()\n",
    "        for images, targets in train_loader:\n",
    "            images, targets = images.to(device), targets.to(device)\n",
    "            optimizer.zero_grad()\n",
    "            outputs = model(images)\n",
    "            loss = criterion(outputs, targets).to(device)\n",
    "            loss.backward()\n",
    "            optimizer.step()\n",
    "\n",
    "        model.eval()\n",
    "        with torch.no_grad():\n",
    "            for images, targets in val_loader:\n",
    "                images, targets = images.to(device), targets.to(device)\n",
    "                outputs = model(images)\n",
    "                val_loss = criterion(outputs, targets).to(device)\n",
    "\n",
    "        train_loss.append(loss.item())\n",
    "        validation_loss.append(val_loss.item())\n",
    "        combined_loss = loss.item() + val_loss.item()\n",
    "        if combined_loss < best_combined_loss:\n",
    "            best_combined_loss = combined_loss\n",
    "            best_model_state = model.state_dict()\n",
    "        print(f'Epoch {epoch+1}/{num_epochs}, Train Loss: {loss.item()}, Val Loss: {val_loss.item()}')\n",
    "    plt.plot([x for x in range(num_epochs)],train_loss, label='Training set')\n",
    "    plt.plot([x for x in range(num_epochs)],validation_loss,label='Validation set')\n",
    "    plt.xlabel('Epochs')\n",
    "    plt.ylabel('Error')\n",
    "    plt.title('Training and validation error ResNet50')\n",
    "    plt.legend()\n",
    "    plt.savefig('training_validation_figure.png')\n",
    "    plt.show()\n",
    "    torch.save(model.state_dict(), 'model_resnet50.pth')\n",
    "    end_time = time.time()\n",
    "    print(\"Time taken for training:\", end_time - start_time, \"seconds\")\n",
    "    return best_model_state,model"
   ]
  },
  {
   "cell_type": "code",
   "execution_count": 13,
   "id": "00cde4b7",
   "metadata": {},
   "outputs": [],
   "source": [
    "def test_ResNet(best_model_state,model,test_loader):\n",
    "    start_time = time.time()\n",
    "\n",
    "    model.load_state_dict(best_model_state)\n",
    "    model.eval()\n",
    "\n",
    "    predictions = []\n",
    "    with torch.no_grad():\n",
    "        for images, _ in test_loader:\n",
    "            images = images.to(device)\n",
    "            outputs = model(images)\n",
    "            predictions.append(outputs)\n",
    "\n",
    "    predictions = torch.cat(predictions, dim=0).to(device)\n",
    "    threshold = 0.5\n",
    "    predicted_labels = (predictions > threshold).float()\n",
    "\n",
    "    predicted_labels = predicted_labels.int()\n",
    "\n",
    "    result = predicted_labels.squeeze().tolist()\n",
    "    end_time = time.time()\n",
    "    print(\"Time taken for testing:\", end_time - start_time, \"seconds\")\n",
    "    return result"
   ]
  },
  {
   "cell_type": "code",
   "execution_count": 14,
   "id": "be46451b",
   "metadata": {},
   "outputs": [],
   "source": [
    "def show_matrix(test_y,result,filename=None):\n",
    "    print(classification_report(test_y, result))\n",
    "    cm = confusion_matrix(test_y, result)\n",
    "    disp = ConfusionMatrixDisplay(confusion_matrix=cm,display_labels=['interior','exterior'])\n",
    "    disp.plot()\n",
    "    if filename:\n",
    "        plt.savefig(filename)\n",
    "    else:\n",
    "        plt.show()"
   ]
  },
  {
   "cell_type": "code",
   "execution_count": 16,
   "id": "442f9f72",
   "metadata": {},
   "outputs": [],
   "source": [
    "def main_trainedResNet_compcar():\n",
    "    train_x, test_x, train_y, test_y = data_loading_COMPCAR()\n",
    "    gc.collect()\n",
    "    im = process_duplicates_image_ids('ResNet',image_paths=train_x,batch_size=100,bucket=\"s3-path\",\n",
    "            boto_s3=boto3_s3,\n",
    "            s3fs_=s3fs_)\n",
    "    im_test = process_duplicates_image_ids('ResNet',image_paths=test_x,batch_size=100,bucket=\"s3-path\",\n",
    "            boto_s3=boto3_s3,\n",
    "            s3fs_=s3fs_)\n",
    "    train_loader,val_loader,test_loader = dataloader(im,train_y,im_test,test_y)\n",
    "    best_model,model = train_trainedResNet(30,train_loader,val_loader)\n",
    "    result = test_ResNet(best_model,model,test_loader)\n",
    "    show_matrix(test_y,result,filename='trainedResNet_results_comp.png')\n",
    "    return result"
   ]
  },
  {
   "cell_type": "code",
   "execution_count": 19,
   "id": "b6953ef8",
   "metadata": {
    "scrolled": false
   },
   "outputs": [
    {
     "name": "stderr",
     "output_type": "stream",
     "text": [
      "Processing Images:   0%|          | 0/53 [00:00<?, ?it/s]/home/ec2-user/anaconda3/envs/pytorch_p310/lib/python3.10/site-packages/torchvision/transforms/functional.py:1603: UserWarning: The default value of the antialias parameter of all the resizing transforms (Resize(), RandomResizedCrop(), etc.) will change from None to True in v0.17, in order to be consistent across the PIL and Tensor backends. To suppress this warning, directly pass antialias=True (recommended, future default), antialias=None (current default, which means False for Tensors and True for PIL), or antialias=False (only works on Tensors - PIL will still use antialiasing). This also applies if you are using the inference transforms from the models weights: update the call to weights.transforms(antialias=True).\n",
      "  warnings.warn(\n",
      "Processing Images: 54it [07:00,  7.79s/it]                        \n"
     ]
    },
    {
     "name": "stdout",
     "output_type": "stream",
     "text": [
      "Tensor Shape: torch.Size([5324, 3, 256, 256])\n",
      "Tensor Dtype: torch.float32\n"
     ]
    },
    {
     "name": "stderr",
     "output_type": "stream",
     "text": [
      "Processing Images: 27it [03:30,  7.80s/it]                        \n"
     ]
    },
    {
     "name": "stdout",
     "output_type": "stream",
     "text": [
      "Tensor Shape: torch.Size([2661, 3, 256, 256])\n",
      "Tensor Dtype: torch.float32\n"
     ]
    },
    {
     "name": "stderr",
     "output_type": "stream",
     "text": [
      "/home/ec2-user/anaconda3/envs/pytorch_p310/lib/python3.10/site-packages/torchvision/models/_utils.py:208: UserWarning: The parameter 'pretrained' is deprecated since 0.13 and may be removed in the future, please use 'weights' instead.\n",
      "  warnings.warn(\n",
      "/home/ec2-user/anaconda3/envs/pytorch_p310/lib/python3.10/site-packages/torchvision/models/_utils.py:223: UserWarning: Arguments other than a weight enum or `None` for 'weights' are deprecated since 0.13 and may be removed in the future. The current behavior is equivalent to passing `weights=ResNet50_Weights.IMAGENET1K_V1`. You can also use `weights=ResNet50_Weights.DEFAULT` to get the most up-to-date weights.\n",
      "  warnings.warn(msg)\n"
     ]
    },
    {
     "name": "stdout",
     "output_type": "stream",
     "text": [
      "Epoch 1/30, Train Loss: 0.1846795678138733, Val Loss: 0.07169977575540543\n",
      "Epoch 2/30, Train Loss: 0.04565979540348053, Val Loss: 0.04964971914887428\n",
      "Epoch 3/30, Train Loss: 0.024049175903201103, Val Loss: 0.05006101354956627\n",
      "Epoch 4/30, Train Loss: 0.11061680316925049, Val Loss: 0.03141852468252182\n",
      "Epoch 5/30, Train Loss: 0.013391198590397835, Val Loss: 0.030944325029850006\n",
      "Epoch 6/30, Train Loss: 0.19016043841838837, Val Loss: 0.02890046499669552\n",
      "Epoch 7/30, Train Loss: 0.19840186834335327, Val Loss: 0.027041388675570488\n",
      "Epoch 8/30, Train Loss: 0.33400532603263855, Val Loss: 0.04599418863654137\n",
      "Epoch 9/30, Train Loss: 0.004803705494850874, Val Loss: 0.058437615633010864\n",
      "Epoch 10/30, Train Loss: 0.2091410607099533, Val Loss: 0.03789538890123367\n",
      "Epoch 11/30, Train Loss: 0.00634453259408474, Val Loss: 0.043493423610925674\n",
      "Epoch 12/30, Train Loss: 0.08324601501226425, Val Loss: 0.052865345031023026\n",
      "Epoch 13/30, Train Loss: 0.009248701855540276, Val Loss: 0.03949989378452301\n",
      "Epoch 14/30, Train Loss: 0.004723047837615013, Val Loss: 0.03152809292078018\n",
      "Epoch 15/30, Train Loss: 0.07280586659908295, Val Loss: 0.05084138736128807\n",
      "Epoch 16/30, Train Loss: 0.06173304468393326, Val Loss: 0.03237941488623619\n",
      "Epoch 17/30, Train Loss: 0.04479507356882095, Val Loss: 0.02653607912361622\n",
      "Epoch 18/30, Train Loss: 0.06899697333574295, Val Loss: 0.037718333303928375\n",
      "Epoch 19/30, Train Loss: 0.18586887419223785, Val Loss: 0.03234294801950455\n",
      "Epoch 20/30, Train Loss: 0.008218331262469292, Val Loss: 0.037480566650629044\n",
      "Epoch 21/30, Train Loss: 0.01919243298470974, Val Loss: 0.03849480301141739\n",
      "Epoch 22/30, Train Loss: 0.058619629591703415, Val Loss: 0.052594464272260666\n",
      "Epoch 23/30, Train Loss: 0.004319669213145971, Val Loss: 0.02442048117518425\n",
      "Epoch 24/30, Train Loss: 0.062584288418293, Val Loss: 0.03392009809613228\n",
      "Epoch 25/30, Train Loss: 0.029683168977499008, Val Loss: 0.028302906081080437\n",
      "Epoch 26/30, Train Loss: 0.015813101083040237, Val Loss: 0.03226909041404724\n",
      "Epoch 27/30, Train Loss: 0.031689245253801346, Val Loss: 0.0451555997133255\n",
      "Epoch 28/30, Train Loss: 0.012281999923288822, Val Loss: 0.06434343010187149\n",
      "Epoch 29/30, Train Loss: 0.013280692510306835, Val Loss: 0.05993785709142685\n",
      "Epoch 30/30, Train Loss: 0.038898032158613205, Val Loss: 0.03958495706319809\n"
     ]
    },
    {
     "data": {
      "image/png": "[encoded data removed]",
      "text/plain": [
       "<Figure size 640x480 with 1 Axes>"
      ]
     },
     "metadata": {},
     "output_type": "display_data"
    },
    {
     "name": "stdout",
     "output_type": "stream",
     "text": [
      "Time taken for training: 552.5842175483704 seconds\n",
      "Time taken for testing: 8.807081699371338 seconds\n",
      "              precision    recall  f1-score   support\n",
      "\n",
      "           0       0.97      1.00      0.98      1477\n",
      "           1       0.99      0.97      0.98      1184\n",
      "\n",
      "    accuracy                           0.98      2661\n",
      "   macro avg       0.98      0.98      0.98      2661\n",
      "weighted avg       0.98      0.98      0.98      2661\n",
      "\n"
     ]
    },
    {
     "data": {
      "image/png": "[encoded data removed]",
      "text/plain": [
       "<Figure size 640x480 with 2 Axes>"
      ]
     },
     "metadata": {},
     "output_type": "display_data"
    }
   ],
   "source": [
    "result = main_trainedResNet_compcar()"
   ]
  },
  {
   "cell_type": "code",
   "execution_count": 39,
   "id": "18350025",
   "metadata": {},
   "outputs": [
    {
     "data": {
      "text/plain": [
       "[149,\n",
       " 188,\n",
       " 206,\n",
       " 213,\n",
       " 221,\n",
       " 281,\n",
       " 301,\n",
       " 306,\n",
       " 322,\n",
       " 326,\n",
       " 327,\n",
       " 382,\n",
       " 412,\n",
       " 440,\n",
       " 446,\n",
       " 474,\n",
       " 491,\n",
       " 547,\n",
       " 591,\n",
       " 620,\n",
       " 622,\n",
       " 678,\n",
       " 712,\n",
       " 736,\n",
       " 747,\n",
       " 759,\n",
       " 806,\n",
       " 878,\n",
       " 887,\n",
       " 963,\n",
       " 981,\n",
       " 1004,\n",
       " 1097,\n",
       " 1143,\n",
       " 1388,\n",
       " 1510,\n",
       " 1626,\n",
       " 1770,\n",
       " 1793,\n",
       " 1846,\n",
       " 2034,\n",
       " 2184,\n",
       " 2211,\n",
       " 2261]"
      ]
     },
     "execution_count": 39,
     "metadata": {},
     "output_type": "execute_result"
    }
   ],
   "source": [
    "misclassified_indices = []\n",
    "for i in range(len(test_y)):\n",
    "    if test_y[i] != result[i]:\n",
    "        misclassified_indices.append(i)\n",
    "        \n",
    "misclassified_indices\n"
   ]
  },
  {
   "cell_type": "code",
   "execution_count": null,
   "id": "8fa4f66a",
   "metadata": {},
   "outputs": [],
   "source": [
    "device = torch.device('cuda' if torch.cuda.is_available() else 'cpu')\n",
    "print('Using device:', device)\n",
    "print()"
   ]
  },
  {
   "cell_type": "markdown",
   "id": "c111257b",
   "metadata": {},
   "source": [
    "# DEFINE INTERIOR/EXTERIOR"
   ]
  },
  {
   "cell_type": "code",
   "execution_count": null,
   "id": "865c7fca",
   "metadata": {},
   "outputs": [],
   "source": [
    "# s3.ls('s3-path')"
   ]
  },
  {
   "cell_type": "code",
   "execution_count": null,
   "id": "76b1c26a",
   "metadata": {},
   "outputs": [],
   "source": [
    "# import ast\n",
    "# s3 = boto3.client('s3')\n",
    "\n",
    "# # Specify the name of your S3 bucket and the key (path) of the text file within the bucket\n",
    "# bucket_name = \"s3-path\"\n",
    "# key = \"\"\n",
    "\n",
    "# # Download the text file from S3\n",
    "# s3_object = s3.get_object(Bucket=bucket_name, Key=key)\n",
    "# text_data = s3_object['Body'].read().decode('utf-8')\n",
    "\n",
    "# # Parse the text data into a Python dictionary using ast.literal_eval\n",
    "# label_dict = ast.literal_eval(text_data)\n",
    "\n",
    "# # Print the dictionary\n",
    "# print(label_dict)"
   ]
  },
  {
   "cell_type": "code",
   "execution_count": null,
   "id": "fe38a00d",
   "metadata": {},
   "outputs": [],
   "source": [
    "# split_values = [word for value in  label_dict.values() for word in value.split(\", \")]"
   ]
  },
  {
   "cell_type": "code",
   "execution_count": null,
   "id": "fe80fcae",
   "metadata": {},
   "outputs": [],
   "source": [
    "# split_values"
   ]
  },
  {
   "cell_type": "markdown",
   "id": "ee39764b",
   "metadata": {},
   "source": [
    "# WORDVECTOR"
   ]
  },
  {
   "cell_type": "code",
   "execution_count": null,
   "id": "1353a52b",
   "metadata": {},
   "outputs": [],
   "source": [
    "pip install gensim"
   ]
  },
  {
   "cell_type": "code",
   "execution_count": null,
   "id": "3b72680a",
   "metadata": {},
   "outputs": [],
   "source": [
    "import gensim.downloader as api\n",
    "wv = api.load('word2vec-google-news-300')"
   ]
  },
  {
   "cell_type": "code",
   "execution_count": null,
   "id": "cf236007",
   "metadata": {},
   "outputs": [],
   "source": [
    "wv.most_similar(\"van\")"
   ]
  },
  {
   "cell_type": "code",
   "execution_count": null,
   "id": "7d6bd6f5",
   "metadata": {},
   "outputs": [],
   "source": [
    "# from gensim.models import Word2Vec\n",
    "# import random\n",
    "# # Assuming 'tokenized_sentences' is a list of tokenized sentences or word sequences from your text data\n",
    "\n",
    "# # Train Word2Vec model\n",
    "# word2vec_model = Word2Vec(sentences=[sentence.split() for sentence in split_values], vector_size=1000, window=5, min_count=1, workers=4)\n",
    "\n",
    "# # Use the trained Word2Vec model\\\n",
    "# # Assuming 'word2vec_model' is your trained Word2Vec model\n",
    "# random_word = random.choice(word2vec_model.wv.index_to_key)\n",
    "\n",
    "# # Print the random word\n",
    "# closest_label, similarity = word2vec_model.wv.most_similar(\"truck\", topn=10)[0]\n",
    "\n",
    "# # Print the closest label and its similarity score\n",
    "# print(\"Closest label:\", closest_label)\n",
    "# print(\"Similarity:\", similarity)"
   ]
  },
  {
   "cell_type": "markdown",
   "id": "b03a81e5",
   "metadata": {},
   "source": [
    "# LDA TOPIC MODELLING (NEEDS SENTENCES)"
   ]
  },
  {
   "cell_type": "code",
   "execution_count": null,
   "id": "9b8908b8",
   "metadata": {},
   "outputs": [],
   "source": [
    "# import gensim\n",
    "# import gensim.corpora as corpora\n",
    "# # Create Dictionary\n",
    "# id2word = corpora.Dictionary(split_values)\n",
    "# # Create Corpus\n",
    "# texts = split_values\n",
    "# # Term Document Frequency\n",
    "# corpus = [id2word.doc2bow(text) for text in texts]\n",
    "# # View\n",
    "# print(corpus[:1][0][:30])"
   ]
  },
  {
   "cell_type": "markdown",
   "id": "aeb7e70e",
   "metadata": {},
   "source": [
    "# LABELS\n"
   ]
  },
  {
   "cell_type": "code",
   "execution_count": null,
   "id": "6832aef5",
   "metadata": {},
   "outputs": [],
   "source": [
    "# import ast\n",
    "# s3 = boto3.client('s3')\n",
    "\n",
    "# # Specify the name of your S3 bucket and the key (path) of the text file within the bucket\n",
    "# bucket_name = \"dpgos-osdata-boaz-beukers-sandbox\"\n",
    "# key = \"labels/clustered_imagenet_labels.json\"\n",
    "\n",
    "# # Download the text file from S3\n",
    "# s3_object = s3.get_object(Bucket=bucket_name, Key=key)\n",
    "# text_data = s3_object['Body'].read().decode('utf-8')\n",
    "\n",
    "# # Parse the text data into a Python dictionary using ast.literal_eval\n",
    "# label_dict_clust = ast.literal_eval(text_data)\n",
    "\n",
    "# # Print the dictionary\n",
    "# #print(label_dict_clust)\n",
    "# label_dict_clust = set(label_dict_clust.values())\n",
    "# print(label_dict_clust)"
   ]
  },
  {
   "cell_type": "code",
   "execution_count": null,
   "id": "bc6319ac",
   "metadata": {},
   "outputs": [],
   "source": [
    "# import ast\n",
    "# s3 = boto3.client('s3')\n",
    "\n",
    "# # Specify the name of your S3 bucket and the key (path) of the text file within the bucket\n",
    "# bucket_name = \"s3-path\"\n",
    "# key = \".\"\n",
    "\n",
    "# # Download the text file from S3\n",
    "# s3_object = s3.get_object(Bucket=bucket_name, Key=key)\n",
    "# text_data = s3_object['Body'].read().decode('utf-8')\n",
    "\n",
    "# # Parse the text data into a Python dictionary using ast.literal_eval\n",
    "# label_dict = ast.literal_eval(text_data)\n",
    "\n",
    "# # Print the dictionary\n",
    "# label_values = [value[1] for value in label_dict.values()]\n",
    "\n",
    "# # Create a set from the values\n",
    "# label_set = set(label_values)\n",
    "\n",
    "# # Print the set\n",
    "# print(list(label_set))"
   ]
  },
  {
   "cell_type": "code",
   "execution_count": null,
   "id": "8a952569",
   "metadata": {},
   "outputs": [],
   "source": [
    "# imagenet_classes = label_dict\n",
    "\n",
    "# class_wnid2new_label = label_dict_clust\n",
    "\n",
    "# new_labels = sorted(set(class_wnid2new_label.values()))\n",
    "# new_label2index = {}\n",
    "# for i, classname in enumerate(new_labels):\n",
    "#     new_label2index[classname] = i\n",
    "\n",
    "\n",
    "# def replace_labels(labels):\n",
    "#     ret = torch.LongTensor(len(labels))\n",
    "\n",
    "#     for i, label in enumerate(labels):\n",
    "#         class_idx = str(label.item())\n",
    "#         class_wnid, _ = imagenet_classes[class_idx]\n",
    "#         new_labelname = class_wnid2new_label[class_wnid]\n",
    "#         new_label = torch.tensor(new_label2index[new_labelname])\n",
    "#         ret[i] = new_label\n",
    "#     return ret"
   ]
  },
  {
   "cell_type": "code",
   "execution_count": null,
   "id": "bbba1717",
   "metadata": {},
   "outputs": [],
   "source": [
    "# label_set"
   ]
  },
  {
   "cell_type": "code",
   "execution_count": null,
   "id": "96438240",
   "metadata": {},
   "outputs": [],
   "source": [
    "# label_set - label_dict_clust"
   ]
  },
  {
   "cell_type": "code",
   "execution_count": null,
   "id": "54f86e44",
   "metadata": {},
   "outputs": [],
   "source": [
    "exterior = ['ambulance','beach_wagon', 'convertible','garbage_truck','jeep', 'limousine', 'minibus', 'minivan','moving_van',\n",
    "            'passenger_car','recreational_vehicle', 'school_bus', 'sports_car','trailor_truck','trolley_bus', 'cab', 'freight_car']\n"
   ]
  },
  {
   "cell_type": "code",
   "execution_count": null,
   "id": "0a336745",
   "metadata": {},
   "outputs": [],
   "source": []
  }
 ],
 "metadata": {
  "kernelspec": {
   "display_name": "conda_pytorch_p310",
   "language": "python",
   "name": "conda_pytorch_p310"
  },
  "language_info": {
   "codemirror_mode": {
    "name": "ipython",
    "version": 3
   },
   "file_extension": ".py",
   "mimetype": "text/x-python",
   "name": "python",
   "nbconvert_exporter": "python",
   "pygments_lexer": "ipython3",
   "version": "3.10.14"
  }
 },
 "nbformat": 4,
 "nbformat_minor": 5
}
