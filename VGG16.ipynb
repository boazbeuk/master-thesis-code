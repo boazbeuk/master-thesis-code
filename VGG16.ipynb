{
 "cells": [
  {
   "cell_type": "code",
   "execution_count": 1,
   "id": "6461e462",
   "metadata": {},
   "outputs": [],
   "source": [
    "import s3fs\n",
    "import boto3\n",
    "\n",
    "from PIL import Image\n",
    "import numpy as np\n",
    "import hashlib\n",
    "import io\n",
    "import json\n",
    "import gc\n",
    "import matplotlib.pyplot as plt\n",
    "import time\n",
    "\n",
    "import torch\n",
    "from torchvision.models import resnet50, ResNet50_Weights\n",
    "from torchvision import transforms, models\n",
    "from torchvision.models import vgg16, VGG16_Weights\n",
    "from torch.utils.data import Dataset, DataLoader\n",
    "\n",
    "import torch.nn as nn\n",
    "from torch.nn import functional as F\n",
    "import torch.optim as optim\n",
    "\n",
    "import matplotlib.pyplot as plt\n",
    "from sklearn.metrics import confusion_matrix, ConfusionMatrixDisplay,classification_report\n",
    "from sklearn.model_selection import train_test_split"
   ]
  },
  {
   "cell_type": "code",
   "execution_count": 2,
   "id": "22fbb6fe",
   "metadata": {},
   "outputs": [],
   "source": [
    "def init_clients():\n",
    "    return boto3.client(\"s3\"), s3fs.S3FileSystem()\n",
    "\n",
    "boto3_s3, s3fs_ = init_clients()"
   ]
  },
  {
   "cell_type": "code",
   "execution_count": 3,
   "id": "8db63c8b",
   "metadata": {},
   "outputs": [
    {
     "name": "stdout",
     "output_type": "stream",
     "text": [
      "Using device: cuda\n",
      "\n"
     ]
    }
   ],
   "source": [
    "device = torch.device('cuda' if torch.cuda.is_available() else 'cpu')\n",
    "print('Using device:', device)\n",
    "print()"
   ]
  },
  {
   "cell_type": "code",
   "execution_count": 4,
   "id": "6a98e965",
   "metadata": {},
   "outputs": [],
   "source": [
    "def data_loading(path):\n",
    "    with open(path, 'r') as file:\n",
    "        test_data = json.load(file)\n",
    "    x = list(test_data.keys())\n",
    "    y = list(test_data.values())\n",
    "    \n",
    "    # zijn die waardes hier altijd static? Of kan dat verschillen?\n",
    "    # je kan ook bv een config maken (json file of een dict) waar je deze waardes in zet, \n",
    "    # dan kan je daarmee dingen uittesten met andere waardes\n",
    "    \n",
    "    train_x, test_x, train_y, test_y = train_test_split(x, y, test_size=0.3, random_state=42,stratify=y)\n",
    "    return train_x, test_x, train_y, test_y"
   ]
  },
  {
   "cell_type": "code",
   "execution_count": 5,
   "id": "22d74294",
   "metadata": {},
   "outputs": [],
   "source": [
    "def data_loading_COMPCAR():\n",
    "    train_x, test_x, train_y, test_y = data_loading('TESTDATA.json')\n",
    "\n",
    "    with open('COMPCAR.json', 'r') as file:\n",
    "        test_data = json.load(file)\n",
    "    x = list(test_data.keys())\n",
    "    y = list(test_data.values())\n",
    "    train_x_2, test_x_2, train_y_2, test_y_2 = train_test_split(x, y, test_size=0.90, random_state=42,stratify=y)\n",
    "\n",
    "    train_x.extend(train_x_2)\n",
    "    train_y.extend(train_y_2)\n",
    "    \n",
    "    test_x.extend(test_x_2[:1500])\n",
    "    test_y.extend(test_y_2[:1500])\n",
    "    return train_x, test_x, train_y, test_y"
   ]
  },
  {
   "cell_type": "code",
   "execution_count": 6,
   "id": "4f935fe6",
   "metadata": {},
   "outputs": [],
   "source": [
    "def preprocess_image(image_bytes):\n",
    "    # Open the image as bytes\n",
    "    image = Image.open(io.BytesIO(image_bytes))\n",
    "\n",
    "    # Convert to grayscale\n",
    "    if image.mode != 'RGB':\n",
    "        image = image.convert('RGB')\n",
    "\n",
    "    # Convert image to numpy array\n",
    "    image_np = np.array(image)\n",
    "\n",
    "    # Convert the numpy array to PyTorch tensor\n",
    "    image_tensor = torch.tensor(image_np)\n",
    "\n",
    "    # Convert the tensor to 3D RGB (if it's not already)\n",
    "    if len(image_tensor.shape) == 2:\n",
    "        image_tensor = image_tensor.unsqueeze(0)  # Add batch dimension\n",
    "    image_tensor = image_tensor.permute(2, 0, 1)  # Convert HWC to CHW\n",
    "\n",
    "    # Normalize to [0, 1]\n",
    "    image_tensor = image_tensor.float() / 255.0\n",
    "\n",
    "    return image_tensor\n",
    "\n",
    "\n",
    "def process_duplicates_image_ids(model, image_paths: list, batch_size: int,\n",
    "                                 bucket: str, boto_s3: boto3.client(\"s3\"), \n",
    "                                 s3fs_: s3fs.S3FileSystem(), target_size=(256, 256)):\n",
    "    \n",
    "    # zou hier list maken en dan check if model in list: in plaats van 4 if statements -> zou trouwens elif doen \n",
    "    models = ['ResNet','VGG16', 'SVM', 'YOLO']\n",
    "    if model in models:\n",
    "        preprocess = transforms.Compose([transforms.Resize(target_size), transforms.ToTensor(),])\n",
    "\n",
    "    image_tensors = []\n",
    "    for i in range(0, len(image_paths), batch_size):\n",
    "        batch_image_paths = image_paths[i:i + batch_size]\n",
    "        batch_image_tensors = []\n",
    "        for ad_image in batch_image_paths:\n",
    "            if ad_image.lower().endswith(('.jpg', '.jpeg', '.png')):\n",
    "                image_path = \"/\".join(ad_image.split(\"/\")[1:])\n",
    "                s3_object = boto_s3.get_object(Bucket=bucket, Key=image_path)\n",
    "                image_bytes = s3_object['Body'].read()\n",
    "                image_tensor = preprocess_image(image_bytes)\n",
    "                batch_image_tensors.append(image_tensor)\n",
    "                \n",
    "        # Resize or crop images to the target size before stacking\n",
    "        batch_image_tensors_resized = [transforms.functional.resize(image, target_size) for image in batch_image_tensors]\n",
    "        image_tensors.append(torch.stack(batch_image_tensors_resized))\n",
    "\n",
    "    # Concatenate processed batches\n",
    "    processed_image_tensors = torch.cat(image_tensors, dim=0)\n",
    "\n",
    "    # Display the shape and dtype of the tensor\n",
    "    print(\"Tensor Shape:\", processed_image_tensors.shape)\n",
    "    print(\"Tensor Dtype:\", processed_image_tensors.dtype)\n",
    "\n",
    "    return processed_image_tensors"
   ]
  },
  {
   "cell_type": "code",
   "execution_count": 7,
   "id": "8465459b",
   "metadata": {},
   "outputs": [],
   "source": [
    "def run_VGG(im):\n",
    "    # wat voor object is im? staat niet in je func namelijk\n",
    "    ## Load pre-trained VGG model\n",
    "    weights = VGG16_Weights.DEFAULT\n",
    "    vgg_model = models.vgg16(weights = weights)\n",
    "    vgg_model.eval()\n",
    "\n",
    "    preprocess = weights.transforms()\n",
    "    image_tensors = im\n",
    "    # Step 3: Apply inference preprocessing transforms\n",
    "    batch = preprocess(image_tensors)\n",
    "\n",
    "    labels= []\n",
    "    start_time = time.time()\n",
    "    with torch.no_grad():\n",
    "        predictions = vgg_model(batch).softmax(1)\n",
    "        top_probs, top_indices = torch.topk(predictions, k=7, dim=1)\n",
    "        \n",
    "        \n",
    "\n",
    "        for i in range(len(image_tensors)):\n",
    "            #print(f\"Predictions for image {i + 1}:\")\n",
    "            image_labels = [] \n",
    "            for j in range(7):  # Top 3 predictions\n",
    "                class_id = top_indices[i][j].item()\n",
    "                score = top_probs[i][j].item()\n",
    "                category_name = weights.meta[\"categories\"][class_id]\n",
    "                if score > 0.01:\n",
    "                    image_labels.append(category_name)\n",
    "                else:\n",
    "                    category_name = ''\n",
    "                    image_labels.append(category_name)\n",
    "\n",
    "                #print(f\"{j + 1}. {category_name}: {100 * score:.1f}%\")\n",
    "\n",
    "            labels.append(image_labels)\n",
    "            #print()\n",
    "    end_time = time.time()\n",
    "    print(\"Time taken for testing:\", end_time - start_time, \"seconds\")\n",
    "    return labels"
   ]
  },
  {
   "cell_type": "code",
   "execution_count": 8,
   "id": "1b6caa16",
   "metadata": {},
   "outputs": [],
   "source": [
    "def get_result(labels):\n",
    "    exterior = ['ambulance','car wheel','racer','golfcart','mobile home','beach wagon', \n",
    "                'convertible','garbage truck','jeep', 'limousine', 'mini bus','minibus',\n",
    "                'minivan','mini van','moving van', 'passenger car','recreational vehicle', 'school bus', \n",
    "                'sports car','trailor truck','trolley bus', 'cab', 'freight car', 'police van', 'grille', 'pickup']\n",
    "\n",
    "    result_VGG = [1 if (sublist[0] in exterior or sublist[1] in exterior or sublist[2] in exterior)\n",
    "                  else 0 for sublist in labels]\n",
    "\n",
    "    result_VGG = [0 if ('seat belt' in sublist or 'sliding door' in sublist or 'stretcher' in sublist\n",
    "                        or 'odometer' in sublist or 'radio' in sublist or 'cassette player' in sublist\n",
    "                        or 'loudspeaker' in sublist or 'barber chair' in sublist or 'electric fan' in sublist\n",
    "                        or 'desk' in sublist or 'microwave' in sublist or 'home theater' in sublist\n",
    "                        or 'dining table' in sublist or 'folding chair' in sublist or 'studio couch' in sublist\n",
    "                        or 'neck brace' in sublist) else val for sublist, val in zip(labels, result_VGG)]\n",
    "    return result_VGG"
   ]
  },
  {
   "cell_type": "code",
   "execution_count": 9,
   "id": "002a32bb",
   "metadata": {},
   "outputs": [],
   "source": [
    "def show_matrix(test_y,result_VGG,filename=None):\n",
    "    print(classification_report(test_y, result_VGG))\n",
    "    cm = confusion_matrix(test_y, result_VGG)\n",
    "    disp = ConfusionMatrixDisplay(confusion_matrix=cm,display_labels=['interior','exterior'])\n",
    "    disp.plot()\n",
    "    if filename:\n",
    "        plt.savefig(filename)\n",
    "    else:\n",
    "        plt.show()"
   ]
  },
  {
   "cell_type": "code",
   "execution_count": 10,
   "id": "42643df3",
   "metadata": {},
   "outputs": [],
   "source": [
    "def main_VGG():\n",
    "    _, test_x, _, test_y = data_loading_COMPCAR()\n",
    "    gc.collect()\n",
    "    im = process_duplicates_image_ids('VGG16',image_paths=test_x,batch_size=32,bucket=\"dpgos-osdata-boaz-beukers-sandbox\",\n",
    "        boto_s3=boto3_s3,\n",
    "        s3fs_=s3fs_)\n",
    "    label = run_VGG(im)\n",
    "    result = get_result(label)\n",
    "    show_matrix(test_y,result,filename='VGG_results.png')"
   ]
  },
  {
   "cell_type": "code",
   "execution_count": 11,
   "id": "6a0a8740",
   "metadata": {},
   "outputs": [
    {
     "name": "stderr",
     "output_type": "stream",
     "text": [
      "/home/ec2-user/anaconda3/envs/pytorch_p310/lib/python3.10/site-packages/torchvision/transforms/functional.py:1603: UserWarning: The default value of the antialias parameter of all the resizing transforms (Resize(), RandomResizedCrop(), etc.) will change from None to True in v0.17, in order to be consistent across the PIL and Tensor backends. To suppress this warning, directly pass antialias=True (recommended, future default), antialias=None (current default, which means False for Tensors and True for PIL), or antialias=False (only works on Tensors - PIL will still use antialiasing). This also applies if you are using the inference transforms from the models weights: update the call to weights.transforms(antialias=True).\n",
      "  warnings.warn(\n"
     ]
    },
    {
     "name": "stdout",
     "output_type": "stream",
     "text": [
      "Tensor Shape: torch.Size([2661, 3, 256, 256])\n",
      "Tensor Dtype: torch.float32\n"
     ]
    },
    {
     "name": "stderr",
     "output_type": "stream",
     "text": [
      "Downloading: \"https://download.pytorch.org/models/vgg16-397923af.pth\" to /home/ec2-user/.cache/torch/hub/checkpoints/vgg16-397923af.pth\n",
      "100%|██████████| 528M/528M [00:02<00:00, 187MB/s] \n"
     ]
    },
    {
     "name": "stdout",
     "output_type": "stream",
     "text": [
      "Time taken for testing: 91.38785552978516 seconds\n",
      "              precision    recall  f1-score   support\n",
      "\n",
      "           0       0.91      0.94      0.93      1477\n",
      "           1       0.92      0.88      0.90      1184\n",
      "\n",
      "    accuracy                           0.92      2661\n",
      "   macro avg       0.92      0.91      0.91      2661\n",
      "weighted avg       0.92      0.92      0.92      2661\n",
      "\n"
     ]
    },
    {
     "data": {
      "image/png": "[encoded data removed]",
      "text/plain": [
       "<Figure size 640x480 with 2 Axes>"
      ]
     },
     "metadata": {},
     "output_type": "display_data"
    }
   ],
   "source": [
    "main_VGG()"
   ]
  },
  {
   "cell_type": "markdown",
   "id": "f9761b5a",
   "metadata": {},
   "source": [
    "# Trained VGG (re train fc layers)"
   ]
  },
  {
   "cell_type": "code",
   "execution_count": 12,
   "id": "9312c48f",
   "metadata": {},
   "outputs": [],
   "source": [
    "class CustomDataset(Dataset):\n",
    "    def __init__(self, images, targets):\n",
    "        self.images = images\n",
    "        self.targets = targets\n",
    "\n",
    "    def __len__(self):\n",
    "        return len(self.images)\n",
    "\n",
    "    def __getitem__(self, idx):\n",
    "        image = self.images[idx]\n",
    "        target = self.targets[idx]\n",
    "\n",
    "        # Convert target label to one-hot encoded tensor\n",
    "        target_tensor = torch.tensor([target], dtype=torch.float32)\n",
    "\n",
    "        return image, target_tensor\n",
    "\n",
    "def dataloader(im,train_y,im_test,test_y):\n",
    "    train_images, val_images, train_targets, val_targets = train_test_split(im, train_y, test_size=0.3, random_state=42,stratify=train_y)\n",
    "\n",
    "    train_dataset = CustomDataset(train_images, train_targets)\n",
    "    val_dataset = CustomDataset(val_images, val_targets)\n",
    "    test_dataset = CustomDataset(im_test, test_y)\n",
    "    \n",
    "    # deze vars zijn beetje gek hier geconstruct\n",
    "    \n",
    "    train_loader = DataLoader(train_dataset, batch_size=32, shuffle=True)\n",
    "    val_loader = DataLoader(val_dataset, batch_size=32)\n",
    "    test_loader = DataLoader(test_dataset, batch_size=32)\n",
    "    \n",
    "    return train_loader,val_loader,test_loader"
   ]
  },
  {
   "cell_type": "code",
   "execution_count": 13,
   "id": "3d6c53f3",
   "metadata": {},
   "outputs": [],
   "source": [
    "def train_trainedVGG(epochs,train_loader,val_loader):\n",
    "    start_time = time.time()\n",
    "\n",
    "    # we kunnen evt je training nog met MLFlow uitbreiden, zou wel smooth zijn - maar niet necessity\n",
    "    model = vgg16(pretrained=True).to(device)\n",
    "\n",
    "    for param in model.parameters():\n",
    "        param.requires_grad = False   \n",
    "\n",
    "    model.classifier[-1] = nn.Sequential(\n",
    "        nn.Linear(4096, 1), \n",
    "        nn.Sigmoid()\n",
    "    ).to(device)\n",
    "    \n",
    "    criterion = nn.BCELoss()\n",
    "    optimizer = optim.Adam(model.classifier.parameters())\n",
    "\n",
    "\n",
    "    num_epochs = epochs\n",
    "    train_loss = []\n",
    "    validation_loss = []\n",
    "    best_combined_loss = float('inf')\n",
    "\n",
    "    for epoch in range(num_epochs):\n",
    "        model.train()\n",
    "        for images, targets in train_loader:\n",
    "            images, targets = images.to(device), targets.to(device)\n",
    "            optimizer.zero_grad()\n",
    "            outputs = model(images)\n",
    "            loss = criterion(outputs, targets).to(device)\n",
    "            loss.backward()\n",
    "            optimizer.step()\n",
    "\n",
    "        model.eval()\n",
    "        with torch.no_grad():\n",
    "            for images, targets in val_loader:\n",
    "                images, targets = images.to(device), targets.to(device)\n",
    "                outputs = model(images)\n",
    "                val_loss = criterion(outputs, targets)\n",
    "\n",
    "        train_loss.append(loss.item())\n",
    "        validation_loss.append(val_loss.item())\n",
    "        combined_loss = loss.item() + val_loss.item()\n",
    "        if combined_loss < best_combined_loss:\n",
    "            best_combined_loss = combined_loss\n",
    "            best_model_state = model.state_dict()\n",
    "        print(f'Epoch {epoch+1}/{num_epochs}, Train Loss: {loss.item()}, Val Loss: {val_loss.item()}')\n",
    "    plt.plot([x for x in range(num_epochs)],train_loss, label='Training set')\n",
    "    plt.plot([x for x in range(num_epochs)],validation_loss,label='Validation set')\n",
    "    plt.xlabel('Epochs')\n",
    "    plt.ylabel('Error')\n",
    "    plt.title('Training and validation error VGG16')\n",
    "    plt.legend()\n",
    "    plt.savefig('training_validation_figure.png')\n",
    "    plt.show()\n",
    "    torch.save(model.state_dict(), 'model_VGG16.pth')\n",
    "    end_time = time.time()\n",
    "    print(\"Time taken for training:\", end_time - start_time, \"seconds\")\n",
    "    return best_model_state,model"
   ]
  },
  {
   "cell_type": "code",
   "execution_count": 14,
   "id": "3864f59a",
   "metadata": {},
   "outputs": [],
   "source": [
    "def test_VGG(best_model_state,model,test_loader):\n",
    "    start_time = time.time()\n",
    "    model.load_state_dict(best_model_state)\n",
    "    model.eval()\n",
    "\n",
    "    predictions = []\n",
    "    with torch.no_grad():\n",
    "        for images, _ in test_loader:\n",
    "            images = images.to(device)\n",
    "            outputs = model(images)\n",
    "            predictions.append(outputs)\n",
    "\n",
    "    predictions = torch.cat(predictions, dim=0).to(device)\n",
    "    threshold = 0.5\n",
    "    predicted_labels = (predictions > threshold).float()\n",
    "\n",
    "    predicted_labels = predicted_labels.int()\n",
    "\n",
    "    result = predicted_labels.squeeze().tolist()\n",
    "    end_time = time.time()\n",
    "    print(\"Time taken for testing:\", end_time - start_time, \"seconds\")\n",
    "    return result"
   ]
  },
  {
   "cell_type": "code",
   "execution_count": 15,
   "id": "9d23b0cf",
   "metadata": {},
   "outputs": [],
   "source": [
    "# train_x, test_x, train_y, test_y = data_loading('TESTDATA.json')\n",
    "# gc.collect()\n",
    "# im = process_duplicates_image_ids('VGG',image_paths=train_x,batch_size=100,bucket=\"s3-path\",\n",
    "#         boto_s3=boto3_s3,\n",
    "#         s3fs_=s3fs_)\n",
    "# im_test = process_duplicates_image_ids('VGG',image_paths=test_x,batch_size=100,bucket=\"s3-path\",\n",
    "#         boto_s3=boto3_s3,\n",
    "#         s3fs_=s3fs_)"
   ]
  },
  {
   "cell_type": "code",
   "execution_count": 16,
   "id": "6cdeb7f6",
   "metadata": {},
   "outputs": [],
   "source": [
    "def main_trainedVGG16():\n",
    "    # zoals eerder, voor al deze strings zou ik met config werken - \n",
    "    # dan kan je altijd namelijk die als env vars ook meenemen evt maar verder prima\n",
    "    # zou je functies wel meer met args laten werken, wat het returnt etc\n",
    "    # zal je van de week wel laten zien wat ik bedoel op kantoor\n",
    "    train_x, test_x, train_y, test_y = data_loading_COMPCAR()\n",
    "    gc.collect()\n",
    "    im = process_duplicates_image_ids('VGG',image_paths=train_x,batch_size=100,bucket=\"s3-path\",\n",
    "            boto_s3=boto3_s3,\n",
    "            s3fs_=s3fs_)\n",
    "    im_test = process_duplicates_image_ids('VGG',image_paths=test_x,batch_size=100,bucket=\"s3-path\",\n",
    "            boto_s3=boto3_s3,\n",
    "            s3fs_=s3fs_)\n",
    "    train_loader,val_loader,test_loader = dataloader(im,train_y,im_test,test_y)\n",
    "    best_model,model = train_trainedVGG(30,train_loader,val_loader)\n",
    "    result = test_VGG(best_model,model,test_loader)\n",
    "    show_matrix(test_y,result,filename='trainedVGG16_results.png')"
   ]
  },
  {
   "cell_type": "code",
   "execution_count": 17,
   "id": "f6019885",
   "metadata": {},
   "outputs": [
    {
     "name": "stderr",
     "output_type": "stream",
     "text": [
      "/home/ec2-user/anaconda3/envs/pytorch_p310/lib/python3.10/site-packages/torchvision/transforms/functional.py:1603: UserWarning: The default value of the antialias parameter of all the resizing transforms (Resize(), RandomResizedCrop(), etc.) will change from None to True in v0.17, in order to be consistent across the PIL and Tensor backends. To suppress this warning, directly pass antialias=True (recommended, future default), antialias=None (current default, which means False for Tensors and True for PIL), or antialias=False (only works on Tensors - PIL will still use antialiasing). This also applies if you are using the inference transforms from the models weights: update the call to weights.transforms(antialias=True).\n",
      "  warnings.warn(\n"
     ]
    },
    {
     "name": "stdout",
     "output_type": "stream",
     "text": [
      "Tensor Shape: torch.Size([5324, 3, 256, 256])\n",
      "Tensor Dtype: torch.float32\n",
      "Tensor Shape: torch.Size([2661, 3, 256, 256])\n",
      "Tensor Dtype: torch.float32\n"
     ]
    },
    {
     "name": "stderr",
     "output_type": "stream",
     "text": [
      "/home/ec2-user/anaconda3/envs/pytorch_p310/lib/python3.10/site-packages/torchvision/models/_utils.py:208: UserWarning: The parameter 'pretrained' is deprecated since 0.13 and may be removed in the future, please use 'weights' instead.\n",
      "  warnings.warn(\n",
      "/home/ec2-user/anaconda3/envs/pytorch_p310/lib/python3.10/site-packages/torchvision/models/_utils.py:223: UserWarning: Arguments other than a weight enum or `None` for 'weights' are deprecated since 0.13 and may be removed in the future. The current behavior is equivalent to passing `weights=VGG16_Weights.IMAGENET1K_V1`. You can also use `weights=VGG16_Weights.DEFAULT` to get the most up-to-date weights.\n",
      "  warnings.warn(msg)\n",
      "Downloading: \"https://download.pytorch.org/models/vgg16-397923af.pth\" to /home/ec2-user/.cache/torch/hub/checkpoints/vgg16-397923af.pth\n",
      "100%|██████████| 528M/528M [00:02<00:00, 216MB/s] \n"
     ]
    },
    {
     "name": "stdout",
     "output_type": "stream",
     "text": [
      "Epoch 1/30, Train Loss: 0.05923619866371155, Val Loss: 0.09697141498327255\n",
      "Epoch 2/30, Train Loss: 0.16932035982608795, Val Loss: 0.07777675241231918\n",
      "Epoch 3/30, Train Loss: 0.46516120433807373, Val Loss: 0.06728070974349976\n",
      "Epoch 4/30, Train Loss: 0.009767244569957256, Val Loss: 0.07143540680408478\n",
      "Epoch 5/30, Train Loss: 0.023578094318509102, Val Loss: 0.0649896040558815\n",
      "Epoch 6/30, Train Loss: 0.19624997675418854, Val Loss: 0.058265674859285355\n",
      "Epoch 7/30, Train Loss: 0.07098785042762756, Val Loss: 0.08208699524402618\n",
      "Epoch 8/30, Train Loss: 0.07046055793762207, Val Loss: 0.05508919432759285\n",
      "Epoch 9/30, Train Loss: 0.020221993327140808, Val Loss: 0.04448441416025162\n",
      "Epoch 10/30, Train Loss: 0.04254923388361931, Val Loss: 0.04567642882466316\n",
      "Epoch 11/30, Train Loss: 0.13564664125442505, Val Loss: 0.0561407133936882\n",
      "Epoch 12/30, Train Loss: 0.023848973214626312, Val Loss: 0.05155986547470093\n",
      "Epoch 13/30, Train Loss: 0.019980404525995255, Val Loss: 0.042113132774829865\n",
      "Epoch 14/30, Train Loss: 0.0012769799213856459, Val Loss: 0.03378105163574219\n",
      "Epoch 15/30, Train Loss: 0.005157445557415485, Val Loss: 0.040064431726932526\n",
      "Epoch 16/30, Train Loss: 0.1083730012178421, Val Loss: 0.023876767605543137\n",
      "Epoch 17/30, Train Loss: 0.282414972782135, Val Loss: 0.020129773765802383\n",
      "Epoch 18/30, Train Loss: 0.2470589131116867, Val Loss: 0.027151770889759064\n",
      "Epoch 19/30, Train Loss: 0.005243493709713221, Val Loss: 0.045487310737371445\n",
      "Epoch 20/30, Train Loss: 0.04427000507712364, Val Loss: 0.03685890883207321\n",
      "Epoch 21/30, Train Loss: 0.06183916702866554, Val Loss: 0.0332321934401989\n",
      "Epoch 22/30, Train Loss: 0.010950648225843906, Val Loss: 0.036258623003959656\n",
      "Epoch 23/30, Train Loss: 0.010300318710505962, Val Loss: 0.042252957820892334\n",
      "Epoch 24/30, Train Loss: 0.3252846896648407, Val Loss: 0.034844860434532166\n",
      "Epoch 25/30, Train Loss: 0.0020140763372182846, Val Loss: 0.03546072542667389\n",
      "Epoch 26/30, Train Loss: 0.08338765799999237, Val Loss: 0.06037222594022751\n",
      "Epoch 27/30, Train Loss: 0.0009602062636986375, Val Loss: 0.03354752063751221\n",
      "Epoch 28/30, Train Loss: 0.004759339150041342, Val Loss: 0.05959364399313927\n",
      "Epoch 29/30, Train Loss: 0.17180238664150238, Val Loss: 0.04096812754869461\n",
      "Epoch 30/30, Train Loss: 0.0014720774488523602, Val Loss: 0.023970434442162514\n"
     ]
    },
    {
     "data": {
      "image/png": "[encoded data removed]",
      "text/plain": [
       "<Figure size 640x480 with 1 Axes>"
      ]
     },
     "metadata": {},
     "output_type": "display_data"
    },
    {
     "name": "stdout",
     "output_type": "stream",
     "text": [
      "Time taken for training: 917.3333644866943 seconds\n",
      "Time taken for testing: 14.805078268051147 seconds\n",
      "              precision    recall  f1-score   support\n",
      "\n",
      "           0       0.96      0.99      0.98      1477\n",
      "           1       0.99      0.95      0.97      1184\n",
      "\n",
      "    accuracy                           0.97      2661\n",
      "   macro avg       0.98      0.97      0.97      2661\n",
      "weighted avg       0.97      0.97      0.97      2661\n",
      "\n"
     ]
    },
    {
     "data": {
      "image/png": "[encoded data removed]",
      "text/plain": [
       "<Figure size 640x480 with 2 Axes>"
      ]
     },
     "metadata": {},
     "output_type": "display_data"
    }
   ],
   "source": [
    "main_trainedVGG16()"
   ]
  },
  {
   "cell_type": "code",
   "execution_count": null,
   "id": "64a0b027",
   "metadata": {},
   "outputs": [],
   "source": []
  }
 ],
 "metadata": {
  "kernelspec": {
   "display_name": "conda_pytorch_p310",
   "language": "python",
   "name": "conda_pytorch_p310"
  },
  "language_info": {
   "codemirror_mode": {
    "name": "ipython",
    "version": 3
   },
   "file_extension": ".py",
   "mimetype": "text/x-python",
   "name": "python",
   "nbconvert_exporter": "python",
   "pygments_lexer": "ipython3",
   "version": "3.10.14"
  }
 },
 "nbformat": 4,
 "nbformat_minor": 5
}
